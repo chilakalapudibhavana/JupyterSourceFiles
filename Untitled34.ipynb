{
 "cells": [
  {
   "cell_type": "code",
   "execution_count": 17,
   "id": "c513b104",
   "metadata": {},
   "outputs": [
    {
     "name": "stdout",
     "output_type": "stream",
     "text": [
      "Time        : 17:55:41.519592\n",
      "Date        : 23-05-2023\n",
      "\n",
      "-------Other Attributes-------\n",
      "Year        : 2023\n",
      "Month       :  5\n",
      "Day         :  23\n",
      "Hour        :  17\n",
      "Minute      :  55\n",
      "Second      : 41\n",
      "Microsecond : 519592\n"
     ]
    }
   ],
   "source": [
    "import datetime\n",
    "\n",
    "current_time = datetime.datetime.now()\n",
    "l=str(current_time).split(\" \")\n",
    "dl=l[0].split(\"-\")\n",
    "dl=dl[::-1]\n",
    "Date=\"-\".join(dl)\n",
    "Time=l[1]\n",
    "print(\"Time        :\",Time)\n",
    "print(\"Date        :\",Date)\n",
    "print()\n",
    "print(\"-------Other Attributes-------\")\n",
    "print(\"Year        :\", current_time.year,)\n",
    "print(\"Month       : \", current_time.month)\n",
    " \n",
    "print(\"Day         : \", current_time.day)\n",
    " \n",
    "print(\"Hour        : \", current_time.hour)\n",
    " \n",
    "print(\"Minute      : \", current_time.minute)\n",
    " \n",
    "print(\"Second      :\", current_time.second)\n",
    " \n",
    "print(\"Microsecond :\", current_time.microsecond)"
   ]
  },
  {
   "cell_type": "code",
   "execution_count": 3,
   "id": "f673bd38",
   "metadata": {},
   "outputs": [],
   "source": [
    "import pyautogui\n",
    "\n",
    "# Take a screenshot\n",
    "screenshot = pyautogui.screenshot()\n",
    "\n",
    "# Save the screenshot as a file\n",
    "screenshot.save('screenshot.png')\n"
   ]
  },
  {
   "cell_type": "code",
   "execution_count": 4,
   "id": "f53248e9",
   "metadata": {},
   "outputs": [],
   "source": [
    "import pyautogui\n",
    "\n",
    "# Take a screenshot\n",
    "screenshot = pyautogui.screenshot()\n",
    "\n",
    "# Save the screenshot as a file\n",
    "screenshot.save('screenshot.png')"
   ]
  },
  {
   "cell_type": "code",
   "execution_count": null,
   "id": "f11aa181",
   "metadata": {},
   "outputs": [],
   "source": []
  }
 ],
 "metadata": {
  "kernelspec": {
   "display_name": "Python 3 (ipykernel)",
   "language": "python",
   "name": "python3"
  },
  "language_info": {
   "codemirror_mode": {
    "name": "ipython",
    "version": 3
   },
   "file_extension": ".py",
   "mimetype": "text/x-python",
   "name": "python",
   "nbconvert_exporter": "python",
   "pygments_lexer": "ipython3",
   "version": "3.9.12"
  }
 },
 "nbformat": 4,
 "nbformat_minor": 5
}
