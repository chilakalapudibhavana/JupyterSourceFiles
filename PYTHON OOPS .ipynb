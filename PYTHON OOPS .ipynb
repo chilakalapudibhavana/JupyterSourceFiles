{
 "cells": [
  {
   "cell_type": "code",
   "execution_count": 32,
   "id": "c2b527c7",
   "metadata": {},
   "outputs": [],
   "source": [
    "class mine:\n",
    "    '''def __init__(self,x=0):   \n",
    "        self.x=x'''\n",
    "    def favnum(self,x):\n",
    "        self.x=x\n",
    "        print(\"my fav num is :\",self.x)"
   ]
  },
  {
   "cell_type": "code",
   "execution_count": 33,
   "id": "5429bb64",
   "metadata": {},
   "outputs": [],
   "source": [
    "\n",
    "a=mine()"
   ]
  },
  {
   "cell_type": "code",
   "execution_count": 29,
   "id": "376bc271",
   "metadata": {},
   "outputs": [
    {
     "ename": "AttributeError",
     "evalue": "'mine' object has no attribute 'x'",
     "output_type": "error",
     "traceback": [
      "\u001b[1;31m---------------------------------------------------------------------------\u001b[0m",
      "\u001b[1;31mAttributeError\u001b[0m                            Traceback (most recent call last)",
      "Input \u001b[1;32mIn [29]\u001b[0m, in \u001b[0;36m<cell line: 1>\u001b[1;34m()\u001b[0m\n\u001b[1;32m----> 1\u001b[0m \u001b[38;5;28mprint\u001b[39m(\u001b[43ma\u001b[49m\u001b[38;5;241;43m.\u001b[39;49m\u001b[43mx\u001b[49m)\n",
      "\u001b[1;31mAttributeError\u001b[0m: 'mine' object has no attribute 'x'"
     ]
    }
   ],
   "source": [
    "print(a.x)"
   ]
  },
  {
   "cell_type": "code",
   "execution_count": 35,
   "id": "4b6ba318",
   "metadata": {},
   "outputs": [
    {
     "name": "stdout",
     "output_type": "stream",
     "text": [
      "my fav num is : 7\n"
     ]
    }
   ],
   "source": [
    "a.favnum(7)"
   ]
  },
  {
   "cell_type": "code",
   "execution_count": 42,
   "id": "720f27d6",
   "metadata": {},
   "outputs": [],
   "source": [
    "class mine:\n",
    "    c=9\n",
    "    def __init__(self,a,b):\n",
    "        self.a=a\n",
    "        self.b=b\n",
    "    def __add__(self):\n",
    "        print(\"addition of two numbers is :\",self.a+self.b)\n",
    "    def __sub__(self):\n",
    "        print(\"subtraction of two numbers is :\",self.a-self.b)\n",
    "    def __mul__(self):\n",
    "        print(\"multiplication of two numbers is :\",self.a*self.b)\n",
    "    def __truediv__(self):\n",
    "        print(\"truediv of two numbers is :\",self.a/self.b)\n",
    "    def __pow__(self):\n",
    "        print(\"power :\",self.a**self.b)\n",
    "    "
   ]
  },
  {
   "cell_type": "code",
   "execution_count": 43,
   "id": "80541bc6",
   "metadata": {},
   "outputs": [],
   "source": [
    "a=mine(7,6)"
   ]
  },
  {
   "cell_type": "code",
   "execution_count": 131,
   "id": "929b8110",
   "metadata": {},
   "outputs": [
    {
     "ename": "AttributeError",
     "evalue": "'mine' object has no attribute '__add__'",
     "output_type": "error",
     "traceback": [
      "\u001b[1;31m---------------------------------------------------------------------------\u001b[0m",
      "\u001b[1;31mAttributeError\u001b[0m                            Traceback (most recent call last)",
      "Input \u001b[1;32mIn [131]\u001b[0m, in \u001b[0;36m<cell line: 1>\u001b[1;34m()\u001b[0m\n\u001b[1;32m----> 1\u001b[0m \u001b[43ma\u001b[49m\u001b[38;5;241;43m.\u001b[39;49m\u001b[38;5;21;43m__add__\u001b[39;49m()\n",
      "\u001b[1;31mAttributeError\u001b[0m: 'mine' object has no attribute '__add__'"
     ]
    }
   ],
   "source": [
    "a.__add__()"
   ]
  },
  {
   "cell_type": "code",
   "execution_count": 45,
   "id": "f2000357",
   "metadata": {},
   "outputs": [
    {
     "data": {
      "text/plain": [
       "9"
      ]
     },
     "execution_count": 45,
     "metadata": {},
     "output_type": "execute_result"
    }
   ],
   "source": [
    "a.c"
   ]
  },
  {
   "cell_type": "code",
   "execution_count": 46,
   "id": "feccd18b",
   "metadata": {},
   "outputs": [],
   "source": [
    "\n",
    "\n",
    "class animal:\n",
    "    def __init__(self):\n",
    "        print(\"animal created\")\n",
    "    def am(self,a):\n",
    "        print(self.a)\n",
    "    def am(self,a,b):\n",
    "        print(self.a)\n",
    "        print(self.b)\n",
    "a=animal"
   ]
  },
  {
   "cell_type": "code",
   "execution_count": 47,
   "id": "88b13ae7",
   "metadata": {},
   "outputs": [
    {
     "ename": "TypeError",
     "evalue": "am() missing 2 required positional arguments: 'a' and 'b'",
     "output_type": "error",
     "traceback": [
      "\u001b[1;31m---------------------------------------------------------------------------\u001b[0m",
      "\u001b[1;31mTypeError\u001b[0m                                 Traceback (most recent call last)",
      "Input \u001b[1;32mIn [47]\u001b[0m, in \u001b[0;36m<cell line: 1>\u001b[1;34m()\u001b[0m\n\u001b[1;32m----> 1\u001b[0m \u001b[43ma\u001b[49m\u001b[38;5;241;43m.\u001b[39;49m\u001b[43mam\u001b[49m\u001b[43m(\u001b[49m\u001b[38;5;241;43m3\u001b[39;49m\u001b[43m)\u001b[49m\n",
      "\u001b[1;31mTypeError\u001b[0m: am() missing 2 required positional arguments: 'a' and 'b'"
     ]
    }
   ],
   "source": [
    "a.am(3)"
   ]
  },
  {
   "cell_type": "code",
   "execution_count": 48,
   "id": "2af7a892",
   "metadata": {},
   "outputs": [
    {
     "ename": "TypeError",
     "evalue": "am() missing 1 required positional argument: 'b'",
     "output_type": "error",
     "traceback": [
      "\u001b[1;31m---------------------------------------------------------------------------\u001b[0m",
      "\u001b[1;31mTypeError\u001b[0m                                 Traceback (most recent call last)",
      "Input \u001b[1;32mIn [48]\u001b[0m, in \u001b[0;36m<cell line: 1>\u001b[1;34m()\u001b[0m\n\u001b[1;32m----> 1\u001b[0m \u001b[43ma\u001b[49m\u001b[38;5;241;43m.\u001b[39;49m\u001b[43mam\u001b[49m\u001b[43m(\u001b[49m\u001b[38;5;241;43m3\u001b[39;49m\u001b[43m,\u001b[49m\u001b[38;5;241;43m4\u001b[39;49m\u001b[43m)\u001b[49m\n",
      "\u001b[1;31mTypeError\u001b[0m: am() missing 1 required positional argument: 'b'"
     ]
    }
   ],
   "source": [
    "a.am(3,4)"
   ]
  },
  {
   "cell_type": "code",
   "execution_count": 50,
   "id": "aaeff17d",
   "metadata": {},
   "outputs": [
    {
     "ename": "AttributeError",
     "evalue": "'int' object has no attribute 'a'",
     "output_type": "error",
     "traceback": [
      "\u001b[1;31m---------------------------------------------------------------------------\u001b[0m",
      "\u001b[1;31mAttributeError\u001b[0m                            Traceback (most recent call last)",
      "Input \u001b[1;32mIn [50]\u001b[0m, in \u001b[0;36m<cell line: 1>\u001b[1;34m()\u001b[0m\n\u001b[1;32m----> 1\u001b[0m \u001b[43ma\u001b[49m\u001b[38;5;241;43m.\u001b[39;49m\u001b[43mam\u001b[49m\u001b[43m(\u001b[49m\u001b[38;5;241;43m1\u001b[39;49m\u001b[43m,\u001b[49m\u001b[38;5;241;43m2\u001b[39;49m\u001b[43m,\u001b[49m\u001b[38;5;241;43m3\u001b[39;49m\u001b[43m)\u001b[49m\n",
      "Input \u001b[1;32mIn [46]\u001b[0m, in \u001b[0;36manimal.am\u001b[1;34m(self, a, b)\u001b[0m\n\u001b[0;32m      8\u001b[0m \u001b[38;5;28;01mdef\u001b[39;00m \u001b[38;5;21mam\u001b[39m(\u001b[38;5;28mself\u001b[39m,a,b):\n\u001b[1;32m----> 9\u001b[0m     \u001b[38;5;28mprint\u001b[39m(\u001b[38;5;28;43mself\u001b[39;49m\u001b[38;5;241;43m.\u001b[39;49m\u001b[43ma\u001b[49m)\n\u001b[0;32m     10\u001b[0m     \u001b[38;5;28mprint\u001b[39m(\u001b[38;5;28mself\u001b[39m\u001b[38;5;241m.\u001b[39mb)\n",
      "\u001b[1;31mAttributeError\u001b[0m: 'int' object has no attribute 'a'"
     ]
    }
   ],
   "source": [
    "a.am(1,2,3)"
   ]
  },
  {
   "cell_type": "code",
   "execution_count": 86,
   "id": "85dde94d",
   "metadata": {},
   "outputs": [],
   "source": [
    "#inheritence\n",
    "class Animal:\n",
    "    def __init__(self):\n",
    "        print(\"animal created\")\n",
    "    def method1(self):\n",
    "        print(\"method 1 in animal\")"
   ]
  },
  {
   "cell_type": "code",
   "execution_count": 87,
   "id": "bbb66b0c",
   "metadata": {},
   "outputs": [],
   "source": [
    "class Dog(Animal):\n",
    "    \n",
    "    def __init__(self):\n",
    "        super().__init__()\n",
    "        print(\"dog created\")\n",
    "    def method1(self):\n",
    "        print(\"method 1 in dog\")\n",
    "    def bark(self):\n",
    "        print(\"i bark bow bow bow...\")"
   ]
  },
  {
   "cell_type": "code",
   "execution_count": 88,
   "id": "99663da3",
   "metadata": {
    "scrolled": true
   },
   "outputs": [
    {
     "name": "stdout",
     "output_type": "stream",
     "text": [
      "animal created\n",
      "dog created\n"
     ]
    }
   ],
   "source": [
    "d=Dog()"
   ]
  },
  {
   "cell_type": "code",
   "execution_count": 89,
   "id": "7c3fedd1",
   "metadata": {},
   "outputs": [
    {
     "name": "stdout",
     "output_type": "stream",
     "text": [
      "method 1 in dog\n"
     ]
    }
   ],
   "source": [
    "d.method1()"
   ]
  },
  {
   "cell_type": "code",
   "execution_count": 90,
   "id": "f245eef2",
   "metadata": {},
   "outputs": [
    {
     "name": "stdout",
     "output_type": "stream",
     "text": [
      "i bark bow bow bow...\n"
     ]
    }
   ],
   "source": [
    "d.bark()"
   ]
  },
  {
   "cell_type": "code",
   "execution_count": 80,
   "id": "50462b01",
   "metadata": {},
   "outputs": [],
   "source": [
    "#POLYMORPHISM \n",
    "class Dog():\n",
    "    def __init__(self,name):\n",
    "        self.name=name\n",
    "    def speak(self):\n",
    "        return self.name + \" bow bow\"\n",
    "class Bird():\n",
    "    def __init__(self,name):\n",
    "        self.name=name\n",
    "    def speak(self):\n",
    "        return self.name + \" cuku cuku\"\n"
   ]
  },
  {
   "cell_type": "code",
   "execution_count": 83,
   "id": "bfd84d9f",
   "metadata": {},
   "outputs": [
    {
     "name": "stdout",
     "output_type": "stream",
     "text": [
      "dog bow bow\n",
      "bird cuku cuku\n"
     ]
    }
   ],
   "source": [
    "d=Dog(\"dog\")\n",
    "a=Bird(\"bird\")\n",
    "print(d.speak())\n",
    "print(a.speak())\n"
   ]
  },
  {
   "cell_type": "code",
   "execution_count": 84,
   "id": "e28d6a96",
   "metadata": {},
   "outputs": [
    {
     "name": "stdout",
     "output_type": "stream",
     "text": [
      "<class '__main__.Dog'>\n",
      "dog bow bow\n",
      "<class '__main__.Bird'>\n",
      "bird cuku cuku\n"
     ]
    }
   ],
   "source": [
    "for i in [d,a]:\n",
    "    print(type(i))\n",
    "    print(i.speak())"
   ]
  },
  {
   "cell_type": "code",
   "execution_count": 92,
   "id": "36000126",
   "metadata": {},
   "outputs": [
    {
     "ename": "TypeError",
     "evalue": "product() missing 1 required positional argument: 'c'",
     "output_type": "error",
     "traceback": [
      "\u001b[1;31m---------------------------------------------------------------------------\u001b[0m",
      "\u001b[1;31mTypeError\u001b[0m                                 Traceback (most recent call last)",
      "Input \u001b[1;32mIn [92]\u001b[0m, in \u001b[0;36m<cell line: 15>\u001b[1;34m()\u001b[0m\n\u001b[0;32m     12\u001b[0m     \u001b[38;5;28mprint\u001b[39m(p)\n\u001b[0;32m     14\u001b[0m \u001b[38;5;66;03m# Uncommenting the below line shows an error\u001b[39;00m\n\u001b[1;32m---> 15\u001b[0m \u001b[43mproduct\u001b[49m\u001b[43m(\u001b[49m\u001b[38;5;241;43m4\u001b[39;49m\u001b[43m,\u001b[49m\u001b[43m \u001b[49m\u001b[38;5;241;43m5\u001b[39;49m\u001b[43m)\u001b[49m\n\u001b[0;32m     18\u001b[0m \u001b[38;5;66;03m# This line will call the second product method\u001b[39;00m\n\u001b[0;32m     19\u001b[0m product(\u001b[38;5;241m4\u001b[39m, \u001b[38;5;241m5\u001b[39m, \u001b[38;5;241m5\u001b[39m)\n",
      "\u001b[1;31mTypeError\u001b[0m: product() missing 1 required positional argument: 'c'"
     ]
    }
   ],
   "source": [
    "def product(a, b):\n",
    "    p = a * b\n",
    "    print(p)\n",
    " \n",
    "# Second product method\n",
    "# Takes three argument and print their\n",
    "# product\n",
    " \n",
    " \n",
    "def product(a, b, c):\n",
    "    p = a * b*c\n",
    "    print(p)\n",
    " \n",
    "# Uncommenting the below line shows an error\n",
    "product(4, 5)\n",
    " \n",
    " \n",
    "# This line will call the second product method\n",
    "product(4, 5, 5)"
   ]
  },
  {
   "cell_type": "code",
   "execution_count": 96,
   "id": "645b1dd6",
   "metadata": {},
   "outputs": [],
   "source": [
    "from multipledispatch import dispatch\n",
    "\n",
    "@dispatch(int,int)\n",
    "def add(a,b):\n",
    "    return a+b\n",
    "\n",
    "@dispatch(str,str)\n",
    "def add(a,b):\n",
    "    return a+b\n",
    "\n",
    "@dispatch(int,int,int)\n",
    "def add(a,b,c):\n",
    "    return a+b+c\n"
   ]
  },
  {
   "cell_type": "code",
   "execution_count": 97,
   "id": "e87264c5",
   "metadata": {},
   "outputs": [
    {
     "name": "stdout",
     "output_type": "stream",
     "text": [
      "7\n"
     ]
    }
   ],
   "source": [
    "print(add(6,1))"
   ]
  },
  {
   "cell_type": "code",
   "execution_count": 98,
   "id": "fb88a209",
   "metadata": {},
   "outputs": [
    {
     "name": "stdout",
     "output_type": "stream",
     "text": [
      "6\n"
     ]
    }
   ],
   "source": [
    "print(add(1,2,3))"
   ]
  },
  {
   "cell_type": "code",
   "execution_count": 99,
   "id": "363d0ffe",
   "metadata": {},
   "outputs": [
    {
     "name": "stdout",
     "output_type": "stream",
     "text": [
      "annayya\n"
     ]
    }
   ],
   "source": [
    "print(add('ann','ayya'))"
   ]
  },
  {
   "cell_type": "code",
   "execution_count": 103,
   "id": "75a64495",
   "metadata": {},
   "outputs": [
    {
     "name": "stdout",
     "output_type": "stream",
     "text": [
      "14\n",
      "21\n",
      "28\n",
      "28\n"
     ]
    }
   ],
   "source": [
    "class mine:\n",
    "    __my=7\n",
    "    def sum(self):\n",
    "        self.__my+=7\n",
    "        print(self.__my)\n",
    "a=mine()\n",
    "a.sum()\n",
    "a.sum()\n",
    "a.sum()\n",
    "print(\"private variable:\",a._mine__my)"
   ]
  },
  {
   "cell_type": "code",
   "execution_count": 133,
   "id": "083845ca",
   "metadata": {},
   "outputs": [],
   "source": [
    "class myclass:\n",
    "    def __init__(self,a,b):\n",
    "        self.name=a\n",
    "        self.branch=b\n",
    "    def __str__(self):\n",
    "        return  f\" {self.name} is studying in the branch {self.branch}\"\n",
    "    def __len__(self):\n",
    "        return 7\n",
    "    def __del__(self):\n",
    "        print(\"My class object is deleted\")"
   ]
  },
  {
   "cell_type": "code",
   "execution_count": 134,
   "id": "45bea2f2",
   "metadata": {},
   "outputs": [],
   "source": [
    "c=myclass(\"anna\",\"Information Technology\")"
   ]
  },
  {
   "cell_type": "code",
   "execution_count": 135,
   "id": "5dcdd036",
   "metadata": {},
   "outputs": [
    {
     "name": "stdout",
     "output_type": "stream",
     "text": [
      " anna is studying in the branch Information Technology\n"
     ]
    }
   ],
   "source": [
    "print(c)"
   ]
  },
  {
   "cell_type": "code",
   "execution_count": 136,
   "id": "3c9091e8",
   "metadata": {},
   "outputs": [
    {
     "data": {
      "text/plain": [
       "7"
      ]
     },
     "execution_count": 136,
     "metadata": {},
     "output_type": "execute_result"
    }
   ],
   "source": [
    "len(c)"
   ]
  },
  {
   "cell_type": "code",
   "execution_count": 139,
   "id": "5f334936",
   "metadata": {},
   "outputs": [
    {
     "name": "stdout",
     "output_type": "stream",
     "text": [
      "My class object is deleted\n"
     ]
    }
   ],
   "source": [
    "d=myclass(\"chelli\",\"IT\")\n",
    "e=myclass(\"anna\",\"Information Technology\")"
   ]
  },
  {
   "cell_type": "code",
   "execution_count": 142,
   "id": "1d876543",
   "metadata": {},
   "outputs": [
    {
     "data": {
      "text/plain": [
       "False"
      ]
     },
     "execution_count": 142,
     "metadata": {},
     "output_type": "execute_result"
    }
   ],
   "source": [
    "def __eq__(self, other):\n",
    "   return (self.name == other.name) & (self.branch == other.branch)\n",
    "\n",
    "c==d\n"
   ]
  },
  {
   "cell_type": "code",
   "execution_count": 143,
   "id": "38330a5c",
   "metadata": {},
   "outputs": [
    {
     "data": {
      "text/plain": [
       "False"
      ]
     },
     "execution_count": 143,
     "metadata": {},
     "output_type": "execute_result"
    }
   ],
   "source": [
    "c==e"
   ]
  },
  {
   "cell_type": "code",
   "execution_count": 164,
   "id": "8d7631e1",
   "metadata": {},
   "outputs": [
    {
     "name": "stdout",
     "output_type": "stream",
     "text": [
      "5\n",
      "1\n",
      "6\n",
      "1.5\n",
      "9\n"
     ]
    }
   ],
   "source": [
    "class myclass:\n",
    "    def __init__(self,a):\n",
    "        self.a=a\n",
    "    def __add__(self,b):\n",
    "        return myclass(self.a + b.a)\n",
    "    def __sub__(self,b):\n",
    "        return myclass(self.a - b.a)\n",
    "    def __mul__(self,b):\n",
    "        return myclass(self.a * b.a)\n",
    "    def __truediv__(self,b):\n",
    "        return myclass(self.a / b.a)\n",
    "    def __pow__(self,b):\n",
    "        return myclass(self.a ** b.a)\n",
    "o1=myclass(3)\n",
    "o2=myclass(2)\n",
    "o3=o1+o2\n",
    "o4=o1-o2\n",
    "#print(o3.a)\n",
    "print((o1+o2).a)\n",
    "print((o1-o2).a)\n",
    "print((o1*o2).a)\n",
    "print((o1/o2).a)\n",
    "print((o1**o2).a)"
   ]
  },
  {
   "cell_type": "code",
   "execution_count": 11,
   "id": "334610d0",
   "metadata": {},
   "outputs": [
    {
     "data": {
      "text/plain": [
       "'a'"
      ]
     },
     "execution_count": 11,
     "metadata": {},
     "output_type": "execute_result"
    }
   ],
   "source": [
    "t=\"ANnayYA\"\n",
    "i=iter(t)\n",
    "next(i)\n",
    "next(i)\n",
    "next(i)\n",
    "i.__next__()\n"
   ]
  },
  {
   "cell_type": "code",
   "execution_count": 12,
   "id": "b68e0929",
   "metadata": {},
   "outputs": [
    {
     "name": "stdout",
     "output_type": "stream",
     "text": [
      "A\n",
      "N\n",
      "n\n",
      "a\n",
      "y\n",
      "Y\n",
      "A\n"
     ]
    }
   ],
   "source": [
    "for i in t:\n",
    "    print(i)"
   ]
  },
  {
   "cell_type": "code",
   "execution_count": 33,
   "id": "86963c5b",
   "metadata": {},
   "outputs": [],
   "source": [
    "class A:\n",
    "    def __iter__(self):\n",
    "        self.a=1\n",
    "        return a\n",
    "    def __next__(self):\n",
    "        x=self.a\n",
    "        self.a +=2\n",
    "        return x"
   ]
  },
  {
   "cell_type": "code",
   "execution_count": 34,
   "id": "0c5245aa",
   "metadata": {},
   "outputs": [
    {
     "name": "stdout",
     "output_type": "stream",
     "text": [
      "1\n",
      "3\n",
      "5\n"
     ]
    }
   ],
   "source": [
    "a=A()\n",
    "b=iter(a)\n",
    "c=a.__iter__()\n",
    "print(next(b))\n",
    "print(next(c))\n",
    "print(b.__next__())"
   ]
  },
  {
   "cell_type": "code",
   "execution_count": 35,
   "id": "a3ead4be",
   "metadata": {},
   "outputs": [],
   "source": [
    "class A:\n",
    "    def __iter__(self):\n",
    "        self.a=1\n",
    "        return a\n",
    "    def __next__(self):\n",
    "        if self.a<=10:\n",
    "            x=self.a\n",
    "            self.a +=3\n",
    "            return x\n",
    "        else:\n",
    "            raise StopIteration\n",
    "a=A()\n",
    "b=iter(a)"
   ]
  },
  {
   "cell_type": "code",
   "execution_count": 32,
   "id": "ce2711a4",
   "metadata": {},
   "outputs": [
    {
     "name": "stdout",
     "output_type": "stream",
     "text": [
      "1\n",
      "4\n",
      "7\n",
      "10\n"
     ]
    },
    {
     "ename": "StopIteration",
     "evalue": "",
     "output_type": "error",
     "traceback": [
      "\u001b[1;31m---------------------------------------------------------------------------\u001b[0m",
      "\u001b[1;31mStopIteration\u001b[0m                             Traceback (most recent call last)",
      "Input \u001b[1;32mIn [32]\u001b[0m, in \u001b[0;36m<cell line: 5>\u001b[1;34m()\u001b[0m\n\u001b[0;32m      3\u001b[0m \u001b[38;5;28mprint\u001b[39m(b\u001b[38;5;241m.\u001b[39m\u001b[38;5;21m__next__\u001b[39m())\n\u001b[0;32m      4\u001b[0m \u001b[38;5;28mprint\u001b[39m(b\u001b[38;5;241m.\u001b[39m\u001b[38;5;21m__next__\u001b[39m())\n\u001b[1;32m----> 5\u001b[0m \u001b[38;5;28mprint\u001b[39m(\u001b[43mb\u001b[49m\u001b[38;5;241;43m.\u001b[39;49m\u001b[38;5;21;43m__next__\u001b[39;49m\u001b[43m(\u001b[49m\u001b[43m)\u001b[49m)\n",
      "Input \u001b[1;32mIn [31]\u001b[0m, in \u001b[0;36mA.__next__\u001b[1;34m(self)\u001b[0m\n\u001b[0;32m      9\u001b[0m     \u001b[38;5;28;01mreturn\u001b[39;00m x\n\u001b[0;32m     10\u001b[0m \u001b[38;5;28;01melse\u001b[39;00m:\n\u001b[1;32m---> 11\u001b[0m     \u001b[38;5;28;01mraise\u001b[39;00m \u001b[38;5;167;01mStopIteration\u001b[39;00m\n",
      "\u001b[1;31mStopIteration\u001b[0m: "
     ]
    }
   ],
   "source": [
    "print(b.__next__())\n",
    "print(b.__next__())\n",
    "print(b.__next__())\n",
    "print(b.__next__())\n",
    "print(b.__next__())"
   ]
  },
  {
   "cell_type": "code",
   "execution_count": 11,
   "id": "0214fd0e",
   "metadata": {},
   "outputs": [],
   "source": [
    "#GENERATORS\n",
    "def my_gen():\n",
    "    n = 1\n",
    "    print('first')\n",
    "    print(\"n\",n)\n",
    "    yield n\n",
    "\n",
    "    n += 1\n",
    "    print('second')\n",
    "    print(\"n\",n)\n",
    "    yield n\n",
    "\n",
    "    n += 1\n",
    "    print('last')\n",
    "    print(\"n\",n)\n",
    "    yield n"
   ]
  },
  {
   "cell_type": "code",
   "execution_count": 12,
   "id": "5cb2a1ef",
   "metadata": {},
   "outputs": [
    {
     "name": "stdout",
     "output_type": "stream",
     "text": [
      "first\n",
      "n 1\n",
      "second\n",
      "n 2\n"
     ]
    },
    {
     "data": {
      "text/plain": [
       "2"
      ]
     },
     "execution_count": 12,
     "metadata": {},
     "output_type": "execute_result"
    }
   ],
   "source": [
    "a=my_gen()\n",
    "next(a)\n",
    "\n",
    "next(a)"
   ]
  },
  {
   "cell_type": "code",
   "execution_count": 13,
   "id": "239624b5",
   "metadata": {},
   "outputs": [
    {
     "name": "stdout",
     "output_type": "stream",
     "text": [
      "2 x 1 = 2\n",
      "2 x 2 = 4\n",
      "2 x 3 = 6\n",
      "2 x 4 = 8\n",
      "2 x 5 = 10\n",
      "3 x 1 = 3\n",
      "3 x 2 = 6\n",
      "3 x 3 = 9\n",
      "3 x 4 = 12\n",
      "3 x 5 = 15\n"
     ]
    }
   ],
   "source": [
    "\n",
    "def table(n):\n",
    "    for i in range(1,6):\n",
    "        print(n,\"x\",i,\"=\",n*i)\n",
    "table(2)\n",
    "ob = table\n",
    "ob(3)\n"
   ]
  },
  {
   "cell_type": "code",
   "execution_count": 16,
   "id": "c6ab30bd",
   "metadata": {},
   "outputs": [
    {
     "name": "stdout",
     "output_type": "stream",
     "text": [
      "not palindrome\n",
      "palindrome\n"
     ]
    }
   ],
   "source": [
    "def revnum(n):\n",
    "    rev=0\n",
    "    while n!=0:\n",
    "        rem=n%10\n",
    "        n=n//10\n",
    "        rev=rev*10+rem\n",
    "    return rev\n",
    "def revstring(s):\n",
    "    s=s[::-1]\n",
    "    return s\n",
    "def palindrome(func,n):\n",
    "    re=func(n)\n",
    "    if n==re:\n",
    "        print(\"palindrome\")\n",
    "    else:\n",
    "        print(\"not palindrome\")\n",
    "palindrome(revnum,173)\n",
    "palindrome(revstring,\"anna\")\n"
   ]
  },
  {
   "cell_type": "code",
   "execution_count": 20,
   "id": "03eb45b5",
   "metadata": {},
   "outputs": [
    {
     "name": "stdout",
     "output_type": "stream",
     "text": [
      "I got decorated\n",
      "I am ordinary\n"
     ]
    }
   ],
   "source": [
    "\n",
    "\n",
    "def make_pretty(func):\n",
    "    def inner():\n",
    "        print(\"I got decorated\")\n",
    "        func()\n",
    "    return inner\n",
    "def ordinary():\n",
    "    print(\"I am ordinary\")\n",
    "ob=make_pretty(ordinary)\n",
    "ob()"
   ]
  },
  {
   "cell_type": "code",
   "execution_count": 17,
   "id": "5e52cd1b",
   "metadata": {},
   "outputs": [
    {
     "name": "stdout",
     "output_type": "stream",
     "text": [
      "I got decorated\n",
      "I am ordinary\n"
     ]
    }
   ],
   "source": [
    "\n",
    "\n",
    "def make_pretty(func):\n",
    "    def inner():\n",
    "        print(\"I got decorated\")\n",
    "        func()\n",
    "    return inner\n",
    "@make_pretty\n",
    "def ordinary():\n",
    "    print(\"I am ordinary\")\n",
    "    \n",
    "ordinary()\n"
   ]
  },
  {
   "cell_type": "code",
   "execution_count": 21,
   "id": "0178113c",
   "metadata": {},
   "outputs": [
    {
     "name": "stdout",
     "output_type": "stream",
     "text": [
      "i am going to divide 2 and 0\n",
      "whoops!error\n",
      "i am going to divide 8 and 2\n",
      "4.0\n"
     ]
    }
   ],
   "source": [
    "def descrip(func):\n",
    "    def inner(a,b):\n",
    "        print(\"i am going to divide\",a,\"and\",b)\n",
    "        if b==0:\n",
    "            print(\"whoops!error\")         \n",
    "        else:\n",
    "            func(a,b)\n",
    "    return inner\n",
    "@descrip\n",
    "def divide(a,b):\n",
    "    print(a/b)\n",
    "divide(2,0)\n",
    "divide(8,2)"
   ]
  },
  {
   "cell_type": "code",
   "execution_count": 1,
   "id": "80584e7c",
   "metadata": {},
   "outputs": [
    {
     "name": "stdout",
     "output_type": "stream",
     "text": [
      "******************************\n",
      "%%%%%%%%%%%%%%%%%%%%%%%%%%%%%%\n",
      "Hello hai\n",
      "%%%%%%%%%%%%%%%%%%%%%%%%%%%%%%\n",
      "******************************\n"
     ]
    }
   ],
   "source": [
    "def star(func):\n",
    "    def inner(*args):\n",
    "        print(\"*\" * 30)\n",
    "        func(*args)\n",
    "        print(\"*\" * 30)\n",
    "    return inner\n",
    "\n",
    "def percent(func):\n",
    "    def inner(*args):\n",
    "        print(\"%\" * 30)\n",
    "        func(*args)\n",
    "        print(\"%\" * 30)\n",
    "    return inner\n",
    "\n",
    "@star\n",
    "@percent\n",
    "def printer(*msg):\n",
    "    print(msg[0],msg[1])\n",
    "\n",
    "printer(\"Hello\",\"hai\")\n"
   ]
  },
  {
   "cell_type": "code",
   "execution_count": null,
   "id": "53975c3b",
   "metadata": {},
   "outputs": [],
   "source": []
  }
 ],
 "metadata": {
  "kernelspec": {
   "display_name": "Python 3 (ipykernel)",
   "language": "python",
   "name": "python3"
  },
  "language_info": {
   "codemirror_mode": {
    "name": "ipython",
    "version": 3
   },
   "file_extension": ".py",
   "mimetype": "text/x-python",
   "name": "python",
   "nbconvert_exporter": "python",
   "pygments_lexer": "ipython3",
   "version": "3.9.12"
  }
 },
 "nbformat": 4,
 "nbformat_minor": 5
}
