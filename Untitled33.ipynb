{
 "cells": [
  {
   "cell_type": "code",
   "execution_count": null,
   "id": "37ab5f8c",
   "metadata": {},
   "outputs": [],
   "source": [
    "s1=\"anna\"\n",
    "s2=\"abcdefghiannajklmnop\"\n",
    "l1=len(s1)\n",
    "l2=len(s2)\n",
    "temp=s2[:l1]\n",
    "if temp==s1:\n",
    "    return 0\n",
    "for i in range(1,s2-l2-1):\n",
    "    \n",
    "    \n",
    "    \n",
    "    "
   ]
  }
 ],
 "metadata": {
  "kernelspec": {
   "display_name": "Python 3 (ipykernel)",
   "language": "python",
   "name": "python3"
  },
  "language_info": {
   "codemirror_mode": {
    "name": "ipython",
    "version": 3
   },
   "file_extension": ".py",
   "mimetype": "text/x-python",
   "name": "python",
   "nbconvert_exporter": "python",
   "pygments_lexer": "ipython3",
   "version": "3.9.12"
  }
 },
 "nbformat": 4,
 "nbformat_minor": 5
}
