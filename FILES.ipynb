{
 "cells": [
  {
   "cell_type": "code",
   "execution_count": 7,
   "id": "12deae58",
   "metadata": {},
   "outputs": [
    {
     "name": "stdout",
     "output_type": "stream",
     "text": [
      "current working directory: B:\\SEM5\\ADVANCED PYTHON\\files\n",
      "B:\\SEM5\\ADVANCED PYTHON\\files\n"
     ]
    }
   ],
   "source": [
    "import os\n",
    "cwd=os.getcwd()\n",
    "print(\"current working directory:\",cwd)\n",
    "os.chdir('B:\\\\SEM5\\\\ADVANCED PYTHON\\\\files')\n",
    "print(os.getcwd())"
   ]
  },
  {
   "cell_type": "code",
   "execution_count": 9,
   "id": "74ceee81",
   "metadata": {},
   "outputs": [],
   "source": [
    "os.mkdir('dir1')"
   ]
  },
  {
   "cell_type": "code",
   "execution_count": 10,
   "id": "4b85484d",
   "metadata": {},
   "outputs": [],
   "source": [
    "os.mkdir('dir2')"
   ]
  },
  {
   "cell_type": "code",
   "execution_count": 11,
   "id": "be9eef6c",
   "metadata": {},
   "outputs": [
    {
     "name": "stdout",
     "output_type": "stream",
     "text": [
      "B:\\SEM5\\ADVANCED PYTHON\\files\n"
     ]
    }
   ],
   "source": [
    "print(os.getcwd())"
   ]
  },
  {
   "cell_type": "code",
   "execution_count": 12,
   "id": "c196bf58",
   "metadata": {},
   "outputs": [],
   "source": [
    "os.chdir('B:\\\\SEM5\\\\ADVANCED PYTHON\\\\files\\\\dir1')"
   ]
  },
  {
   "cell_type": "code",
   "execution_count": 13,
   "id": "db4919a9",
   "metadata": {},
   "outputs": [],
   "source": [
    "f=open('file1','w')"
   ]
  },
  {
   "cell_type": "code",
   "execution_count": 14,
   "id": "2f009e53",
   "metadata": {},
   "outputs": [
    {
     "name": "stdout",
     "output_type": "stream",
     "text": [
      "['file1']\n"
     ]
    }
   ],
   "source": [
    "print(os.listdir('.'))"
   ]
  },
  {
   "cell_type": "code",
   "execution_count": 15,
   "id": "8847773b",
   "metadata": {},
   "outputs": [],
   "source": [
    "os.chdir('B:\\\\SEM5\\\\ADVANCED PYTHON\\\\files')"
   ]
  },
  {
   "cell_type": "code",
   "execution_count": 16,
   "id": "3f2c7992",
   "metadata": {},
   "outputs": [
    {
     "name": "stdout",
     "output_type": "stream",
     "text": [
      "['dir1', 'dir2']\n"
     ]
    }
   ],
   "source": [
    "print(os.listdir('.'))"
   ]
  },
  {
   "cell_type": "code",
   "execution_count": 17,
   "id": "8335dec3",
   "metadata": {},
   "outputs": [],
   "source": [
    "os.rmdir('dir2')"
   ]
  },
  {
   "cell_type": "code",
   "execution_count": 18,
   "id": "efeae9f4",
   "metadata": {},
   "outputs": [
    {
     "name": "stdout",
     "output_type": "stream",
     "text": [
      "['dir1']\n"
     ]
    }
   ],
   "source": [
    "print(os.listdir('.'))"
   ]
  },
  {
   "cell_type": "code",
   "execution_count": 20,
   "id": "2f576c1f",
   "metadata": {},
   "outputs": [],
   "source": [
    "os.chdir('B:\\\\SEM5\\\\ADVANCED PYTHON\\\\files\\\\dir1')"
   ]
  },
  {
   "cell_type": "code",
   "execution_count": 27,
   "id": "65127dfc",
   "metadata": {},
   "outputs": [],
   "source": [
    "f=open('file1','r')"
   ]
  },
  {
   "cell_type": "code",
   "execution_count": 28,
   "id": "4d1b51cf",
   "metadata": {},
   "outputs": [],
   "source": [
    "r=f.read()"
   ]
  },
  {
   "cell_type": "code",
   "execution_count": 29,
   "id": "f7dc04fd",
   "metadata": {},
   "outputs": [
    {
     "name": "stdout",
     "output_type": "stream",
     "text": [
      "pure bond\n"
     ]
    }
   ],
   "source": [
    "print(r)"
   ]
  },
  {
   "cell_type": "code",
   "execution_count": 25,
   "id": "40c785db",
   "metadata": {},
   "outputs": [],
   "source": [
    "f.close()"
   ]
  },
  {
   "cell_type": "code",
   "execution_count": 30,
   "id": "fcf9b3c3",
   "metadata": {},
   "outputs": [],
   "source": [
    "f=open('file1','a')\n",
    "f.write(\"ANNA\")\n",
    "f.write(\"CHELLI\")\n",
    "f.close()"
   ]
  },
  {
   "cell_type": "code",
   "execution_count": 35,
   "id": "741ec646",
   "metadata": {},
   "outputs": [
    {
     "name": "stdout",
     "output_type": "stream",
     "text": [
      "pure bond\n",
      "\n",
      "ANNA\n",
      "\n"
     ]
    }
   ],
   "source": [
    "f=open('file1','r')\n",
    "#r=f.read()\n",
    "#rl=f.readlines()\n",
    "#print(r)\n",
    "rl=f.readline()\n",
    "print(rl)\n",
    "rl=f.readline()\n",
    "print(rl)\n",
    "f.close()"
   ]
  },
  {
   "cell_type": "code",
   "execution_count": 36,
   "id": "e9c5603a",
   "metadata": {},
   "outputs": [
    {
     "name": "stdout",
     "output_type": "stream",
     "text": [
      "nt\n"
     ]
    }
   ],
   "source": [
    "print(os.name)"
   ]
  },
  {
   "cell_type": "code",
   "execution_count": 39,
   "id": "ace726f4",
   "metadata": {},
   "outputs": [
    {
     "name": "stdout",
     "output_type": "stream",
     "text": [
      "\n"
     ]
    },
    {
     "ename": "ValueError",
     "evalue": "invalid literal for int() with base 10: ''",
     "output_type": "error",
     "traceback": [
      "\u001b[1;31m---------------------------------------------------------------------------\u001b[0m",
      "\u001b[1;31mValueError\u001b[0m                                Traceback (most recent call last)",
      "Input \u001b[1;32mIn [39]\u001b[0m, in \u001b[0;36m<cell line: 1>\u001b[1;34m()\u001b[0m\n\u001b[1;32m----> 1\u001b[0m n\u001b[38;5;241m=\u001b[39m\u001b[38;5;28;43mint\u001b[39;49m\u001b[43m(\u001b[49m\u001b[38;5;28;43minput\u001b[39;49m\u001b[43m(\u001b[49m\u001b[43m)\u001b[49m\u001b[43m)\u001b[49m\n\u001b[0;32m      2\u001b[0m \u001b[38;5;28mprint\u001b[39m(n\u001b[38;5;241m*\u001b[39m\u001b[38;5;241m9\u001b[39m)\n",
      "\u001b[1;31mValueError\u001b[0m: invalid literal for int() with base 10: ''"
     ]
    }
   ],
   "source": [
    "n=int(input())\n",
    "print(n*9)"
   ]
  },
  {
   "cell_type": "code",
   "execution_count": 43,
   "id": "d7b94ac9",
   "metadata": {},
   "outputs": [
    {
     "name": "stdout",
     "output_type": "stream",
     "text": [
      "yes\n"
     ]
    }
   ],
   "source": [
    "class Voters(Exception):\n",
    "    def __init__(self):\n",
    "        super()\n",
    "try:\n",
    "    age=12\n",
    "    if age<12:\n",
    "        raise Voters\n",
    "except Voters:\n",
    "    print(Voters)\n",
    "finally:\n",
    "    print(\"yes\")\n",
    "    "
   ]
  },
  {
   "cell_type": "code",
   "execution_count": null,
   "id": "9bafeb9d",
   "metadata": {},
   "outputs": [],
   "source": []
  },
  {
   "cell_type": "code",
   "execution_count": null,
   "id": "384d51ad",
   "metadata": {},
   "outputs": [],
   "source": []
  }
 ],
 "metadata": {
  "kernelspec": {
   "display_name": "Python 3 (ipykernel)",
   "language": "python",
   "name": "python3"
  },
  "language_info": {
   "codemirror_mode": {
    "name": "ipython",
    "version": 3
   },
   "file_extension": ".py",
   "mimetype": "text/x-python",
   "name": "python",
   "nbconvert_exporter": "python",
   "pygments_lexer": "ipython3",
   "version": "3.9.12"
  }
 },
 "nbformat": 4,
 "nbformat_minor": 5
}
