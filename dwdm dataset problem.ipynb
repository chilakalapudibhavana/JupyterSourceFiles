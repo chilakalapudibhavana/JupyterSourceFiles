{
 "cells": [
  {
   "cell_type": "code",
   "execution_count": 16,
   "id": "00daed12",
   "metadata": {},
   "outputs": [
    {
     "name": "stdout",
     "output_type": "stream",
     "text": [
      "q1 : 5\n",
      "q3 : 15\n",
      "lf : 11\n",
      "uf : 15\n",
      "[11, 11, 12]\n"
     ]
    }
   ],
   "source": [
    "s=[2,2,3,4,5,5,5,6,7,8,8,8,8,8,9,9,10,11,11,12]\n",
    "t=[]\n",
    "q1=int(25*(len(s)+1)/100)\n",
    "print('q1 :',q1)\n",
    "q3=q1*3\n",
    "print('q3 :',q3)\n",
    "iqr=s[q1]-s[q3]\n",
    "lf=int(s[q1]-1.5*(iqr))\n",
    "print('lf :',lf)\n",
    "uf=int(s[q3]-1.5*(iqr))\n",
    "print('uf :',uf)\n",
    "for i in s:\n",
    "    if i>=lf and i<=uf:\n",
    "        t.append(i)\n",
    "        \n",
    "print(t)\n",
    "\n"
   ]
  },
  {
   "cell_type": "code",
   "execution_count": 31,
   "id": "6858d1a7",
   "metadata": {},
   "outputs": [
    {
     "name": "stdout",
     "output_type": "stream",
     "text": [
      "5\n",
      "11.333333333333334\n",
      "9\n"
     ]
    },
    {
     "data": {
      "image/png": "[encoded data removed]",
      "text/plain": [
       "<Figure size 432x288 with 1 Axes>"
      ]
     },
     "metadata": {
      "needs_background": "light"
     },
     "output_type": "display_data"
    }
   ],
   "source": [
    "import statistics\n",
    "import numpy as np\n",
    "import matplotlib.pyplot as plt\n",
    "x=[min(t),s[q1],statistics.mean(t),s[q3],max(t)]\n",
    "print(s[q1])\n",
    "print(statistics.mean(t))\n",
    "print(s[q3])\n",
    "\n",
    "y=[0,1,2,3,4]\n",
    "plt.bar(y,x,color='red',width=0.8)\n",
    "plt.show()"
   ]
  },
  {
   "cell_type": "code",
   "execution_count": null,
   "id": "10665086",
   "metadata": {},
   "outputs": [],
   "source": []
  }
 ],
 "metadata": {
  "kernelspec": {
   "display_name": "Python 3 (ipykernel)",
   "language": "python",
   "name": "python3"
  },
  "language_info": {
   "codemirror_mode": {
    "name": "ipython",
    "version": 3
   },
   "file_extension": ".py",
   "mimetype": "text/x-python",
   "name": "python",
   "nbconvert_exporter": "python",
   "pygments_lexer": "ipython3",
   "version": "3.9.12"
  }
 },
 "nbformat": 4,
 "nbformat_minor": 5
}
