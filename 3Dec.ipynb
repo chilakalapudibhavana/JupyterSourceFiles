{
 "cells": [
  {
   "cell_type": "code",
   "execution_count": 10,
   "id": "526c5452",
   "metadata": {},
   "outputs": [
    {
     "name": "stdout",
     "output_type": "stream",
     "text": [
      "Enter value1:2\n",
      "Enter value2:3\n",
      "0\n"
     ]
    }
   ],
   "source": [
    "a=int(input(\"Enter value1:\"))\n",
    "b=int(input(\"Enter value2:\"))\n",
    "print(a>>b)"
   ]
  },
  {
   "cell_type": "code",
   "execution_count": 11,
   "id": "d78bb6ad",
   "metadata": {},
   "outputs": [
    {
     "name": "stdout",
     "output_type": "stream",
     "text": [
      "Enter value1:2\n",
      "Enter value2:3\n",
      "0\n"
     ]
    }
   ],
   "source": [
    "a=int(input(\"Enter value1:\"))\n",
    "b=int(input(\"Enter value2:\"))\n",
    "print(a>>b)"
   ]
  },
  {
   "cell_type": "code",
   "execution_count": 12,
   "id": "63d39f7e",
   "metadata": {},
   "outputs": [
    {
     "name": "stdout",
     "output_type": "stream",
     "text": [
      "Enter value1:5\n",
      "Enter value2:6\n",
      "0\n"
     ]
    }
   ],
   "source": [
    "a=int(input(\"Enter value1:\"))\n",
    "b=int(input(\"Enter value2:\"))\n",
    "print(a>>b)"
   ]
  },
  {
   "cell_type": "code",
   "execution_count": null,
   "id": "5fe3b8be",
   "metadata": {},
   "outputs": [],
   "source": [
    "a=int(input(\"Enter value1:\"))\n",
    "b=int(input(\"Enter value2:\"))\n",
    "print(a//b==a/b)"
   ]
  },
  {
   "cell_type": "code",
   "execution_count": null,
   "id": "af14dd67",
   "metadata": {},
   "outputs": [],
   "source": [
    "PI = 3.1412\n",
    "r = 2 \n",
    "a = PI*r**2\n",
    "c = 1/3*PI*r**r\n",
    "print(\" =\",a)\n",
    "print(\"cirumference=\",c)"
   ]
  },
  {
   "cell_type": "code",
   "execution_count": null,
   "id": "fffe2438",
   "metadata": {},
   "outputs": [],
   "source": [
    "a=int(input(\"Enter value:\"))\n",
    "b=int(input(\"Enter value:\"))\n",
    "print(\"Before swapping a = \",a)\n",
    "print (\"b =\",b)\n",
    "temp=a\n",
    "a=b\n",
    "b=temp\n",
    "print(\"After swapping a = \",a)\n",
    "print (\"b =\",b)"
   ]
  },
  {
   "cell_type": "code",
   "execution_count": null,
   "id": "1b93a0ea",
   "metadata": {},
   "outputs": [],
   "source": [
    "a=float(input(\"Enter data\")\n",
    "print(a+12)"
   ]
  },
  {
   "cell_type": "code",
   "execution_count": null,
   "id": "afa32bcc",
   "metadata": {},
   "outputs": [],
   "source": [
    "a=10\n",
    "b=11.56789\n",
    "c=\"hello\"\n",
    "d=True\n",
    "print(a)\n",
    "print(b)\n",
    "print(c)\n",
    "print(d)"
   ]
  },
  {
   "cell_type": "code",
   "execution_count": null,
   "id": "a14293d7",
   "metadata": {},
   "outputs": [],
   "source": [
    "str1 = \"hello\"\n",
    "print(str1)"
   ]
  },
  {
   "cell_type": "code",
   "execution_count": null,
   "id": "66381e6b",
   "metadata": {},
   "outputs": [],
   "source": [
    "a=12\n",
    "b=20\n",
    "print(a)\n",
    "print(b)"
   ]
  },
  {
   "cell_type": "code",
   "execution_count": null,
   "id": "2881047a",
   "metadata": {},
   "outputs": [],
   "source": [
    "a=int(input(\"Enter value1:\"))\n",
    "b=int(input(\"Enter value2:\"))\n",
    "c=int(input(\"Enter value:3\"))\n",
    "if(a>b and a<c):\n",
    "    big=a\n",
    "elif(b>a and b>c):\n",
    "    big=b\n",
    "else:\n",
    "     big=c\n",
    "print(\"Biggest value:\",big)"
   ]
  },
  {
   "cell_type": "code",
   "execution_count": null,
   "id": "c48f9b08",
   "metadata": {},
   "outputs": [],
   "source": [
    "a=3\n",
    "b=5\n",
    "print(id(a))\n",
    "print(id(b))\n",
    "if id(a)is id(b):\n",
    "    print(id(a))\n",
    "    print(id(b))\n",
    "    print(\"both id's are same\")\n",
    "if id(a)is not id(b):\n",
    "    print(id(a))\n",
    "    print(id(b))\n",
    "    print(\"both id's are not same\")\n",
    "    "
   ]
  },
  {
   "cell_type": "code",
   "execution_count": null,
   "id": "4c812e6e",
   "metadata": {},
   "outputs": [],
   "source": [
    "val=int(input(\"Enter value1:\"))\n",
    "pos=int(input(\"Enter value2:\"))\n",
    "print(val>>pos)"
   ]
  },
  {
   "cell_type": "code",
   "execution_count": null,
   "id": "1b83aaf3",
   "metadata": {},
   "outputs": [],
   "source": [
    "\n",
    "___=5\n",
    "__=2\n",
    "print(__-___)"
   ]
  },
  {
   "cell_type": "code",
   "execution_count": null,
   "id": "3fb6935c",
   "metadata": {},
   "outputs": [],
   "source": [
    "#arithmetic \n",
    "# +,-,*,/,%,//,**\n",
    "a=int(input(\"Enter value1:\"))\n",
    "b=int(input(\"Enter value2:\"))\n",
    "if(a>b):\n",
    "    print(\"Team a won \")\n",
    "if(b>a): \n",
    "    print(\"Team b won\")\n",
    "if(a==b):\n",
    "    print(\"draw match\")"
   ]
  },
  {
   "cell_type": "code",
   "execution_count": null,
   "id": "9ea16977",
   "metadata": {},
   "outputs": [],
   "source": [
    "a=int(input(\"Enter value1:\"))\n",
    "b=int(input(\"Enter value2:\"))\n",
    "b**=a\n",
    "print(b)"
   ]
  }
 ],
 "metadata": {
  "kernelspec": {
   "display_name": "Python 3 (ipykernel)",
   "language": "python",
   "name": "python3"
  },
  "language_info": {
   "codemirror_mode": {
    "name": "ipython",
    "version": 3
   },
   "file_extension": ".py",
   "mimetype": "text/x-python",
   "name": "python",
   "nbconvert_exporter": "python",
   "pygments_lexer": "ipython3",
   "version": "3.9.12"
  }
 },
 "nbformat": 4,
 "nbformat_minor": 5
}
