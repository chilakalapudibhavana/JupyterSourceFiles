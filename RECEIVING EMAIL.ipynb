{
 "cells": [
  {
   "cell_type": "code",
   "execution_count": 1,
   "id": "5eff207d",
   "metadata": {},
   "outputs": [],
   "source": [
    "import imaplib\n"
   ]
  },
  {
   "cell_type": "code",
   "execution_count": 2,
   "id": "9c6e24d8",
   "metadata": {},
   "outputs": [],
   "source": [
    "M=imaplib.IMAP4_SSL('imap.gmail.com')"
   ]
  },
  {
   "cell_type": "code",
   "execution_count": 3,
   "id": "b71a3a8c",
   "metadata": {},
   "outputs": [
    {
     "name": "stdout",
     "output_type": "stream",
     "text": [
      "Email:········\n",
      "Password:········\n"
     ]
    }
   ],
   "source": [
    "import getpass\n",
    "email=getpass.getpass(\"Email:\")\n",
    "password=getpass.getpass(\"Password:\")"
   ]
  },
  {
   "cell_type": "code",
   "execution_count": 4,
   "id": "aec61647",
   "metadata": {},
   "outputs": [
    {
     "data": {
      "text/plain": [
       "('OK', [b'bhavanach650@gmail.com authenticated (Success)'])"
      ]
     },
     "execution_count": 4,
     "metadata": {},
     "output_type": "execute_result"
    }
   ],
   "source": [
    "M.login(email,password)"
   ]
  },
  {
   "cell_type": "code",
   "execution_count": 5,
   "id": "0881220b",
   "metadata": {},
   "outputs": [
    {
     "data": {
      "text/plain": [
       "('OK',\n",
       " [b'(\\\\HasNoChildren) \"/\" \"INBOX\"',\n",
       "  b'(\\\\HasChildren \\\\Noselect) \"/\" \"[Gmail]\"',\n",
       "  b'(\\\\All \\\\HasNoChildren) \"/\" \"[Gmail]/All Mail\"',\n",
       "  b'(\\\\Drafts \\\\HasNoChildren) \"/\" \"[Gmail]/Drafts\"',\n",
       "  b'(\\\\HasNoChildren \\\\Important) \"/\" \"[Gmail]/Important\"',\n",
       "  b'(\\\\HasNoChildren \\\\Sent) \"/\" \"[Gmail]/Sent Mail\"',\n",
       "  b'(\\\\HasNoChildren \\\\Junk) \"/\" \"[Gmail]/Spam\"',\n",
       "  b'(\\\\Flagged \\\\HasNoChildren) \"/\" \"[Gmail]/Starred\"',\n",
       "  b'(\\\\HasNoChildren \\\\Trash) \"/\" \"[Gmail]/Trash\"',\n",
       "  b'(\\\\HasNoChildren) \"/\" \"&JxQ-\"',\n",
       "  b'(\\\\HasNoChildren) \"/\" \"&JxQnFA-\"'])"
      ]
     },
     "execution_count": 5,
     "metadata": {},
     "output_type": "execute_result"
    }
   ],
   "source": [
    "M.list()"
   ]
  },
  {
   "cell_type": "code",
   "execution_count": 6,
   "id": "2d1cdca5",
   "metadata": {},
   "outputs": [
    {
     "data": {
      "text/plain": [
       "('OK', [b'410'])"
      ]
     },
     "execution_count": 6,
     "metadata": {},
     "output_type": "execute_result"
    }
   ],
   "source": [
    "M.select('inbox')"
   ]
  },
  {
   "cell_type": "code",
   "execution_count": 8,
   "id": "fe3b712b",
   "metadata": {},
   "outputs": [],
   "source": [
    "typ,data=M.search(None,'SUBJECT \"NPTEL Newsletter\"')"
   ]
  },
  {
   "cell_type": "code",
   "execution_count": 9,
   "id": "5058e397",
   "metadata": {},
   "outputs": [
    {
     "data": {
      "text/plain": [
       "'OK'"
      ]
     },
     "execution_count": 9,
     "metadata": {},
     "output_type": "execute_result"
    }
   ],
   "source": [
    "typ\n"
   ]
  },
  {
   "cell_type": "code",
   "execution_count": 11,
   "id": "ca2fe97b",
   "metadata": {},
   "outputs": [],
   "source": [
    "email_id=data[0]"
   ]
  },
  {
   "cell_type": "code",
   "execution_count": 12,
   "id": "6b8051f9",
   "metadata": {},
   "outputs": [],
   "source": [
    "result,email_data=M.fetch(email_id,'(RFC822)')"
   ]
  },
  {
   "cell_type": "code",
   "execution_count": 13,
   "id": "ee92d0a4",
   "metadata": {},
   "outputs": [
    {
     "data": {
      "text/plain": [
       "[(b'408 (RFC822 {25268}',\n",
       "  b'Delivered-To: bhavanach650@gmail.com\\r\\nReceived: by 2002:a05:7208:70d4:b0:5f:25f3:38c with SMTP id q20csp4931122rba;\\r\\n        Thu, 12 Jan 2023 04:37:14 -0800 (PST)\\r\\nX-Received: by 2002:a17:906:9f07:b0:7ec:27d7:1838 with SMTP id fy7-20020a1709069f0700b007ec27d71838mr81117329ejc.22.1673527034394;\\r\\n        Thu, 12 Jan 2023 04:37:14 -0800 (PST)\\r\\nARC-Seal: i=3; a=rsa-sha256; t=1673527034; cv=pass;\\r\\n        d=google.com; s=arc-20160816;\\r\\n        b=Ssz2Q7Rqw6XcFgVf9B48HpbTyzosOR4wwwiRBE7K0J89ciIRTCUUJDwkY2GE0AT5ZX\\r\\n         FCq2vVlHNECN67R0tImjGBnY8PSORs31ah0p2nn0sxomLJcNTudp5NdcDmoUbTqNSv7M\\r\\n         hjEf3ECzvEhGmDsu5kZaL47K+ZDfaysn+khpAnpvyld0kMHYKJGYn/fdKrXcmzev9p/n\\r\\n         D3UhrWqjkYzp+0MG95MRHBYgOnt+ylEinn9hDEfbN9E9XH3s0cQrJ1dx1FoXNbRuQWVt\\r\\n         khP5OvFw4cpfePqTZCdK1Z0CykCx9qEx7jWHPvpUlvdS21vg835icwAgag6NUEGGY14l\\r\\n         YlNw==\\r\\nARC-Message-Signature: i=3; a=rsa-sha256; c=relaxed/relaxed; d=google.com; s=arc-20160816;\\r\\n        h=list-unsubscribe:list-archive:list-help:list-post:list-id\\r\\n         :mailing-list:precedence:to:subject:message-id:date:from\\r\\n         :mime-version:dkim-signature;\\r\\n        bh=x9uLDmBXQN5J+prf1rxxramT2FXpqCxizA38q3YOeUQ=;\\r\\n        b=nh/1BdP0zTLE8/JMJsFNiapSos/0YKekGo22mIndF80kyE8HWiFGjwhfn2QcRRfURW\\r\\n         TrvtB4QSLEaoPFuQV1GGkVHUqQ7D0ecLQ61zWeeLIs/kaakCtAEbHgEk+yhk5cJGpSOm\\r\\n         LxTFQJAAm5WGmgzSmkEltGGqpRkRoP5ZVnBE5f23KecX+HlRsVbnAMMTZjHfCwXVWCb5\\r\\n         9Yao57UtNxpRt0x+jsacVgSgrUeKbIgfuZNml3C8TDwum6mPIIFXjoQfuS6HInBxcLaQ\\r\\n         2kTVbmecGP9fuhO548Sqt+06SXS8T20o3F0KUaZL7mdyvC4nG3c247iVZZ+H+rgsG6m6\\r\\n         xhGQ==\\r\\nARC-Authentication-Results: i=3; mx.google.com;\\r\\n       dkim=pass header.i=@nptel-iitm-ac-in.20210112.gappssmtp.com header.s=20210112 header.b=pdrfOMpH;\\r\\n       arc=pass (i=2 spf=pass spfdomain=nptel.iitm.ac.in dkim=pass dkdomain=nptel-iitm-ac-in.20210112.gappssmtp.com);\\r\\n       spf=pass (google.com: domain of newsletter-announce+bncbcz5rxnbuuobbuhi76oqmgqevsuibai@nptel.iitm.ac.in designates 209.85.220.69 as permitted sender) smtp.mailfrom=newsletter-announce+bncBCZ5RXNBUUOBBUHI76OQMGQEVSUIBAI@nptel.iitm.ac.in\\r\\nReturn-Path: <newsletter-announce+bncBCZ5RXNBUUOBBUHI76OQMGQEVSUIBAI@nptel.iitm.ac.in>\\r\\nReceived: from mail-sor-f69.google.com (mail-sor-f69.google.com. [209.85.220.69])\\r\\n        by mx.google.com with SMTPS id wb7-20020a170907d50700b0078d42d36cbdsor8704173ejc.59.2023.01.12.04.37.14\\r\\n        for <bhavanach650@gmail.com>\\r\\n        (Google Transport Security);\\r\\n        Thu, 12 Jan 2023 04:37:14 -0800 (PST)\\r\\nReceived-SPF: pass (google.com: domain of newsletter-announce+bncbcz5rxnbuuobbuhi76oqmgqevsuibai@nptel.iitm.ac.in designates 209.85.220.69 as permitted sender) client-ip=209.85.220.69;\\r\\nAuthentication-Results: mx.google.com;\\r\\n       dkim=pass header.i=@nptel-iitm-ac-in.20210112.gappssmtp.com header.s=20210112 header.b=pdrfOMpH;\\r\\n       arc=pass (i=2 spf=pass spfdomain=nptel.iitm.ac.in dkim=pass dkdomain=nptel-iitm-ac-in.20210112.gappssmtp.com);\\r\\n       spf=pass (google.com: domain of newsletter-announce+bncbcz5rxnbuuobbuhi76oqmgqevsuibai@nptel.iitm.ac.in designates 209.85.220.69 as permitted sender) smtp.mailfrom=newsletter-announce+bncBCZ5RXNBUUOBBUHI76OQMGQEVSUIBAI@nptel.iitm.ac.in\\r\\nARC-Seal: i=2; a=rsa-sha256; t=1673527034; cv=pass;\\r\\n        d=google.com; s=arc-20160816;\\r\\n        b=w/lizS1Y9ROf7I/oWhNdXMbd7n7uMrK193JM4HG1eSKIP/mi0LhyAYBarkcTMvAOw5\\r\\n         o303Cn4pOY54uZ0RoDjxUHUxf/FSV6YunxdWt6TGhWwWRqVhJw5zKCFEBmnfEhCw4l8O\\r\\n         y/4SHuC8KZMf63bRSmwg8m0YAWPAB1vv9vME4EfAHRv68vdKWsDSK6pIz6a4qanvn506\\r\\n         npcDpMgfNE1YgtSWhPEOHZOEM9MidwIZsJ4gTsxs+y1cZnhmoGWUK8yV12tVpnE6dUeN\\r\\n         0TK8d8d5z7xNGTSu+4iKmxWV8zoEzLuYfosLzNzaIItBSnP9MGDCeSXFTBJ+rG5DUkZB\\r\\n         qnYg==\\r\\nARC-Message-Signature: i=2; a=rsa-sha256; c=relaxed/relaxed; d=google.com; s=arc-20160816;\\r\\n        h=list-unsubscribe:list-archive:list-help:list-post:list-id\\r\\n         :mailing-list:precedence:to:subject:message-id:date:from\\r\\n         :mime-version:dkim-signature;\\r\\n        bh=x9uLDmBXQN5J+prf1rxxramT2FXpqCxizA38q3YOeUQ=;\\r\\n        b=0qYHm3umNopRpNPF01OeQyqrhYxuXX9NxCFOIA4jM19+UaeYsyWx7RbqFrzFBZLPNW\\r\\n         e7FBoBbxIbb/Yge8lAQsAVKLGX+hJlobyu2nkAFwGuKr3puqpfZ7Dg1ETsQUk7aE3NiP\\r\\n         rJwh2VITnfl/YZLWydv/Ij6vEgenUIIlPfcvWWpF5Uh3Pw4g5Qc8znQ6S5EfEr6zUObO\\r\\n         CJcq37xJKQFzm31IKs12YquWT3VmLT60MKlkHAlYlH1ho/H+3HaCBRWR+OxErSMYIAL+\\r\\n         C6qF7wSPwPWEirvXA16DHsvf6SDpLvMIozQSgB+xMJWdrghfYsd92GUyOkTiXr1zHjiE\\r\\n         oOaQ==\\r\\nARC-Authentication-Results: i=2; mx.google.com;\\r\\n       dkim=pass header.i=@nptel-iitm-ac-in.20210112.gappssmtp.com header.s=20210112 header.b=ih9ogeKF;\\r\\n       spf=pass (google.com: domain of onlinecourses@nptel.iitm.ac.in designates 209.85.220.41 as permitted sender) smtp.mailfrom=onlinecourses@nptel.iitm.ac.in\\r\\nDKIM-Signature: v=1; a=rsa-sha256; c=relaxed/relaxed;\\r\\n        d=nptel-iitm-ac-in.20210112.gappssmtp.com; s=20210112;\\r\\n        h=list-unsubscribe:list-archive:list-help:list-post:list-id\\r\\n         :mailing-list:precedence:x-original-authentication-results\\r\\n         :x-original-sender:to:subject:message-id:date:from:mime-version:from\\r\\n         :to:cc:subject:date:message-id:reply-to;\\r\\n        bh=x9uLDmBXQN5J+prf1rxxramT2FXpqCxizA38q3YOeUQ=;\\r\\n        b=pdrfOMpHbRD7uGNbS1Ctgop89ajwqUTq5/90mJcox7jjxtUIqr06/ES2H6MTyssu/4\\r\\n         Jn78lhbfyL6CcL2mOA/nFxjThWhN6npEHjYfQz8QXAxV5Djcaz5PXt38QO8B1PZXfCTA\\r\\n         Zdv31MvkcHGg8tf+gGG1RhnZwJe14m1XrDU9uIjoFA09ctWegCs+UCH1icrE8mXC4b7P\\r\\n         s/LGOQd6d0j1pzMJTpKyHIPPbQ5J16ku8mvlddsOKNS4ZIIppgMbyzImUExElHyJvw/k\\r\\n         LT7A1gOmsFKAMenKJyruFuNRAUEIB+UNETtp30YB7roT4D3lG8cppzk0f+RmOvAF55G9\\r\\n         IvDQ==\\r\\nX-Google-DKIM-Signature: v=1; a=rsa-sha256; c=relaxed/relaxed;\\r\\n        d=1e100.net; s=20210112;\\r\\n        h=list-unsubscribe:list-archive:list-help:list-post\\r\\n         :x-spam-checked-in-group:list-id:mailing-list:precedence\\r\\n         :x-original-authentication-results:x-original-sender:to:subject\\r\\n         :message-id:date:from:mime-version:x-gm-message-state:from:to:cc\\r\\n         :subject:date:message-id:reply-to;\\r\\n        bh=x9uLDmBXQN5J+prf1rxxramT2FXpqCxizA38q3YOeUQ=;\\r\\n        b=ezdidS+0WSBI1SiVdSNYafeYcFGCrQQdxt8H7tsGrmuUvEl1lVsk4UbRycV0kXTPEc\\r\\n         hJFJn79X4YDBLwUGiF2sdYt9jN5Nd1vs+jGsHrEtccarXJHEQsQyKz8wXJC86fuAT+U1\\r\\n         glz2BMOxwzkQpF315EyWyEgytrY57fpfVVrOXHwH5mcU+29DmRG/DO4Ndhz2YdXVQs+z\\r\\n         PeltGxqBw/vTL89YzYsTbuqcOQ2v8U96x/T+J7x7mdajcOhm7+VuTuo/YNZfhXztm7ze\\r\\n         LClGHGRBST4UB0Vv3lzQY4iaBDokulMXJJuRo/QQfj+woFDXtPyEqfpL1AzMugno6HZj\\r\\n         2ESg==\\r\\nX-Gm-Message-State: AFqh2krQihqKI2kIwZBt1XdGpaFPT7ONY5nXbzvvo/CJW4hD5Itebr0D\\r\\n\\th07vz9aPrVpCAV6hV45ZXVh8XQ==\\r\\nX-Google-Smtp-Source: AMrXdXvdljE8mAYYjDJ7LNwkZlS0TERkOGWZ2MSoJ0Rq/jaV954iZgXkBoCjC81jTmYV2P7tPSt9/w==\\r\\nX-Received: by 2002:a17:906:fcb6:b0:85d:6569:ff36 with SMTP id qw22-20020a170906fcb600b0085d6569ff36mr701543ejb.171.1673527033777;\\r\\n        Thu, 12 Jan 2023 04:37:13 -0800 (PST)\\r\\nX-BeenThere: newsletter-announce@nptel.iitm.ac.in\\r\\nReceived: by 2002:a05:6402:26cd:b0:45c:bfd9:fb45 with SMTP id\\r\\n x13-20020a05640226cd00b0045cbfd9fb45ls882952edd.3.-pod-prod-gmail; Thu, 12\\r\\n Jan 2023 03:51:42 -0800 (PST)\\r\\nX-Received: by 2002:a05:6402:2497:b0:48e:b020:6c14 with SMTP id q23-20020a056402249700b0048eb0206c14mr41027100eda.26.1673524302371;\\r\\n        Thu, 12 Jan 2023 03:51:42 -0800 (PST)\\r\\nARC-Seal: i=1; a=rsa-sha256; t=1673524302; cv=none;\\r\\n        d=google.com; s=arc-20160816;\\r\\n        b=qYfSnjUDqF0BY/dFIfuY5jue34x6bUyR9APQcOgQfJUlvoeQjxEjhFz3bgd4htfuHR\\r\\n         fiSuW55IoIP61Ov3KFhuejaFkkoZQqGEd/R/YgPt+EIRYHTW/x49QcKkx1XK8ObwDWBE\\r\\n         xwuZ+mw/1hYl4/j+QkKXkp+R+DmH/C9xi/vTLx//OsPBEBrVGmc7aUOi0Qv5X4ApERue\\r\\n         s/3a7N4sVevKoWNiwf66drlP+YTtNUi9KQxdOhAg1TOnSxC3SWKfrf75n9fAnLMN8sXs\\r\\n         RvasashSSJwOoudwqYn4ULXq4LU1UGbzTs5nPUazoUy6ylfWkUHdRxRirRHVMkxQBntl\\r\\n         fMHQ==\\r\\nARC-Message-Signature: i=1; a=rsa-sha256; c=relaxed/relaxed; d=google.com; s=arc-20160816;\\r\\n        h=to:subject:message-id:date:from:mime-version:dkim-signature;\\r\\n        bh=Zl36Y/2k+ObY1ciiupTEQ0uLtD0f25YAfLu7CbadoUs=;\\r\\n        b=JzUFOtU8EMcid/4A7bwo3S7RChfXy2WfYCPfXZ0JvG1EqDphgg6ocQUQwfO+/5kmDC\\r\\n         frNuId5SHJdz+a/oa8McE8S92o2jSbEWg2tGPUzbF2tR/PaXaLyWUH2gTfhcbjkDwLIE\\r\\n         DfowdnfIC/uiki7dpMm2SO6WNpHk4vJ0jkH7S7NZQK+k6CeEuEvhcEY1qLf8Q6HlHG6P\\r\\n         QuuwAlm0ve76GekL7v91NqNFstMjQxNO1Jl11Q7jpRvwWtA6FtYYR9bOb/2+fTggZiDI\\r\\n         mv4jOPCJHGR/WQmXHfPuqFOmseljgrY7DDZPFUHrTZVu4ASYgN6HU1tks2KhJyltNoff\\r\\n         8liQ==\\r\\nARC-Authentication-Results: i=1; mx.google.com;\\r\\n       dkim=pass header.i=@nptel-iitm-ac-in.20210112.gappssmtp.com header.s=20210112 header.b=ih9ogeKF;\\r\\n       spf=pass (google.com: domain of onlinecourses@nptel.iitm.ac.in designates 209.85.220.41 as permitted sender) smtp.mailfrom=onlinecourses@nptel.iitm.ac.in\\r\\nReceived: from mail-sor-f41.google.com (mail-sor-f41.google.com. [209.85.220.41])\\r\\n        by mx.google.com with SMTPS id t27-20020a50ab5b000000b0049700c95836sor9877513edc.8.2023.01.12.03.51.42\\r\\n        for <newsletter-announce@nptel.iitm.ac.in>\\r\\n        (Google Transport Security);\\r\\n        Thu, 12 Jan 2023 03:51:42 -0800 (PST)\\r\\nReceived-SPF: pass (google.com: domain of onlinecourses@nptel.iitm.ac.in designates 209.85.220.41 as permitted sender) client-ip=209.85.220.41;\\r\\nX-Received: by 2002:a05:6402:4013:b0:49a:b8ee:ef4b with SMTP id\\r\\n d19-20020a056402401300b0049ab8eeef4bmr400052eda.143.1673524301641; Thu, 12\\r\\n Jan 2023 03:51:41 -0800 (PST)\\r\\nMIME-Version: 1.0\\r\\nFrom: NPTEL <onlinecourses@nptel.iitm.ac.in>\\r\\nDate: Thu, 12 Jan 2023 17:21:30 +0530\\r\\nMessage-ID: <CAFi4wK-pGD2vBq+Fh76j8=Ccg+c85BxDjuyQfhwacz63sJjzmA@mail.gmail.com>\\r\\nSubject: NPTEL Newsletter: Celebrate this youth day with NPTEL!\\r\\nTo: newsletter-announce@nptel.iitm.ac.in\\r\\nContent-Type: multipart/alternative; boundary=\"00000000000085ea3f05f20fbddb\"\\r\\nX-Original-Sender: onlinecourses@nptel.iitm.ac.in\\r\\nX-Original-Authentication-Results: mx.google.com;       dkim=pass\\r\\n header.i=@nptel-iitm-ac-in.20210112.gappssmtp.com header.s=20210112\\r\\n header.b=ih9ogeKF;       spf=pass (google.com: domain of onlinecourses@nptel.iitm.ac.in\\r\\n designates 209.85.220.41 as permitted sender) smtp.mailfrom=onlinecourses@nptel.iitm.ac.in\\r\\nPrecedence: list\\r\\nMailing-list: list newsletter-announce@nptel.iitm.ac.in; contact newsletter-announce+owners@nptel.iitm.ac.in\\r\\nList-ID: <newsletter-announce.nptel.iitm.ac.in>\\r\\nX-Spam-Checked-In-Group: newsletter-announce@nptel.iitm.ac.in\\r\\nX-Google-Group-Id: 821389845798\\r\\nList-Post: <https://groups.google.com/a/nptel.iitm.ac.in/group/newsletter-announce/post>,\\r\\n <mailto:newsletter-announce@nptel.iitm.ac.in>\\r\\nList-Help: <https://support.google.com/a/nptel.iitm.ac.in/bin/topic.py?topic=25838>,\\r\\n <mailto:newsletter-announce+help@nptel.iitm.ac.in>\\r\\nList-Archive: <https://groups.google.com/a/nptel.iitm.ac.in/group/newsletter-announce/>\\r\\nList-Unsubscribe: <mailto:googlegroups-manage+821389845798+unsubscribe@googlegroups.com>,\\r\\n <https://groups.google.com/a/nptel.iitm.ac.in/group/newsletter-announce/subscribe>\\r\\n\\r\\n--00000000000085ea3f05f20fbddb\\r\\nContent-Type: text/plain; charset=\"UTF-8\"\\r\\n\\r\\n<https://bit.ly/NPTELTW>\\r\\n[image: Facebook] <bit.ly/NPTELFB>\\r\\n[image: Twitter] <bit.ly/NPTELTW>\\r\\n[image: Instagram] <bit.ly/NPTELINSTA>\\r\\n[image: LinkedIn] <bit.ly/NPTELLN>\\r\\n\\r\\n\\r\\nThanks and Regards,\\r\\nNPTEL TEAM.\\r\\n\\r\\n-- \\r\\nTo unsubscribe from this group and stop receiving emails from it:\\r\\nLog in to Google Groups and click on My Groups seen in the left navigation pane. You will see the list of your groups. Choose the group \"NPTEL Newsletter\"\\r\\nClick the Leave Group icon on the right side to leave the group or you can choose the \"No email\" option under Subscription to stop receiving these emails.\\r\\n--- \\r\\nTo unsubscribe from this group and stop receiving emails from it, send an email to newsletter-announce+unsubscribe@nptel.iitm.ac.in.\\r\\n\\r\\n--00000000000085ea3f05f20fbddb\\r\\nContent-Type: text/html; charset=\"UTF-8\"\\r\\nContent-Transfer-Encoding: quoted-printable\\r\\n\\r\\n<div dir=3D\"ltr\">\\r\\n\\r\\n\\r\\n\\r\\n =20\\r\\n  <meta http-equiv=3D\"Content-Type\" content=3D\"text/html; charset=3DUTF-8\">\\r\\n  <meta name=3D\"viewport\" content=3D\"width=3Ddevice-width, initial-scale=3D=\\r\\n1.0\">\\r\\n  <meta name=3D\"x-apple-disable-message-reformatting\">\\r\\n =20\\r\\n  <meta http-equiv=3D\"X-UA-Compatible\" content=3D\"IE=3Dedge\">\\r\\n =20\\r\\n  <title></title>\\r\\n\\r\\n  <style type=3D\"text/css\">\\r\\n    @media only screen and (min-width: 520px) {\\r\\n      .u-row {\\r\\n        width: 500px !important;\\r\\n      }\\r\\n      .u-row .u-col {\\r\\n        vertical-align: top;\\r\\n      }\\r\\n      .u-row .u-col-100 {\\r\\n        width: 500px !important;\\r\\n      }\\r\\n    }\\r\\n   =20\\r\\n    @media (max-width: 520px) {\\r\\n      .u-row-container {\\r\\n        max-width: 100% !important;\\r\\n        padding-left: 0px !important;\\r\\n        padding-right: 0px !important;\\r\\n      }\\r\\n      .u-row .u-col {\\r\\n        min-width: 320px !important;\\r\\n        max-width: 100% !important;\\r\\n        display: block !important;\\r\\n      }\\r\\n      .u-row {\\r\\n        width: 100% !important;\\r\\n      }\\r\\n      .u-col {\\r\\n        width: 100% !important;\\r\\n      }\\r\\n      .u-col>div {\\r\\n        margin: 0 auto;\\r\\n      }\\r\\n    }\\r\\n   =20\\r\\n    body {\\r\\n      margin: 0;\\r\\n      padding: 0;\\r\\n    }\\r\\n   =20\\r\\n    table,\\r\\n    tr,\\r\\n    td {\\r\\n      vertical-align: top;\\r\\n      border-collapse: collapse;\\r\\n    }\\r\\n   =20\\r\\n    .ie-container table,\\r\\n    .mso-container table {\\r\\n      table-layout: fixed;\\r\\n    }\\r\\n   =20\\r\\n    * {\\r\\n      line-height: inherit;\\r\\n    }\\r\\n   =20\\r\\n    a[x-apple-data-detectors=3D\\'true\\'] {\\r\\n      color: inherit !important;\\r\\n      text-decoration: none !important;\\r\\n    }\\r\\n   =20\\r\\n    table,\\r\\n    td {\\r\\n      color: #000000;\\r\\n    }\\r\\n   =20\\r\\n    #u_body a {\\r\\n      color: #0000ee;\\r\\n      text-decoration: underline;\\r\\n    }\\r\\n  </style>\\r\\n\\r\\n\\r\\n\\r\\n\\r\\n\\r\\n\\r\\n =20\\r\\n =20\\r\\n  <table id=3D\"u_body\" style=3D\"border-collapse:collapse;table-layout:fixed=\\r\\n;border-spacing:0;vertical-align:top;min-width:320px;Margin:0 auto;backgrou=\\r\\nnd-color:#ffffff;width:100%\" cellpadding=3D\"0\" cellspacing=3D\"0\">\\r\\n    <tbody>\\r\\n      <tr style=3D\"vertical-align:top\">\\r\\n        <td style=3D\"word-break:break-word;border-collapse:collapse!importa=\\r\\nnt;vertical-align:top\">\\r\\n         =20\\r\\n\\r\\n\\r\\n          <div class=3D\"u-row-container\" style=3D\"padding:0px;background-co=\\r\\nlor:transparent\">\\r\\n            <div class=3D\"u-row\" style=3D\"Margin:0 auto;min-width:320px;max=\\r\\n-width:500px;word-wrap:break-word;word-break:break-word;background-color:tr=\\r\\nansparent\">\\r\\n              <div style=3D\"border-collapse:collapse;display:table;width:10=\\r\\n0%;height:100%;background-color:transparent\">\\r\\n               =20\\r\\n\\r\\n               =20\\r\\n                <div class=3D\"u-col u-col-100\" style=3D\"max-width:320px;min=\\r\\n-width:500px;display:table-cell;vertical-align:top\">\\r\\n                  <div style=3D\"height:100%;width:100%!important\">\\r\\n                   =20\\r\\n                    <div style=3D\"height:100%;padding:0px;border-top:0px so=\\r\\nlid transparent;border-left:0px solid transparent;border-right:0px solid tr=\\r\\nansparent;border-bottom:0px solid transparent\">\\r\\n                     =20\\r\\n\\r\\n                      <table style=3D\"font-family:arial,helvetica,sans-seri=\\r\\nf\" role=3D\"presentation\" cellpadding=3D\"0\" cellspacing=3D\"0\" width=3D\"100%\"=\\r\\n border=3D\"0\">\\r\\n                        <tbody>\\r\\n                          <tr>\\r\\n                            <td style=3D\"word-break:break-word;padding:0px;=\\r\\nfont-family:arial,helvetica,sans-serif\" align=3D\"left\">\\r\\n\\r\\n                              <table width=3D\"100%\" cellpadding=3D\"0\" cells=\\r\\npacing=3D\"0\" border=3D\"0\">\\r\\n                                <tbody><tr>\\r\\n                                  <td style=3D\"padding-right:0px;padding-le=\\r\\nft:0px\" align=3D\"center\">\\r\\n                                    <a href=3D\"https://bit.ly/NPTELTW\" targ=\\r\\net=3D\"_blank\">\\r\\n                                      <img align=3D\"center\" border=3D\"0\" sr=\\r\\nc=3D\"https://assets.unlayer.com/projects/50932/1673523480554-updated.png\" a=\\r\\nlt=3D\"\" title=3D\"\" style=3D\"outline: none;text-decoration: none;-ms-interpo=\\r\\nlation-mode: bicubic;clear: both;display: inline-block !important;border: n=\\r\\none;height: auto;float: none;width: 100%;max-width: 500px;\" width=3D\"500\">\\r\\n                                    </a>\\r\\n                                  </td>\\r\\n                                </tr>\\r\\n                              </tbody></table>\\r\\n\\r\\n                            </td>\\r\\n                          </tr>\\r\\n                        </tbody>\\r\\n                      </table>\\r\\n\\r\\n                     =20\\r\\n                    </div>\\r\\n                   =20\\r\\n                  </div>\\r\\n                </div>\\r\\n               =20\\r\\n               =20\\r\\n              </div>\\r\\n            </div>\\r\\n          </div>\\r\\n\\r\\n\\r\\n\\r\\n          <div class=3D\"u-row-container\" style=3D\"padding:0px;background-co=\\r\\nlor:transparent\">\\r\\n            <div class=3D\"u-row\" style=3D\"Margin:0 auto;min-width:320px;max=\\r\\n-width:500px;word-wrap:break-word;word-break:break-word;background-color:tr=\\r\\nansparent\">\\r\\n              <div style=3D\"border-collapse:collapse;display:table;width:10=\\r\\n0%;height:100%;background-color:transparent\">\\r\\n               =20\\r\\n\\r\\n               =20\\r\\n                <div class=3D\"u-col u-col-100\" style=3D\"max-width:320px;min=\\r\\n-width:500px;display:table-cell;vertical-align:top\">\\r\\n                  <div style=3D\"height:100%;width:100%!important;border-rad=\\r\\nius:0px\">\\r\\n                   =20\\r\\n                    <div style=3D\"height:100%;padding:0px;border-top:0px so=\\r\\nlid transparent;border-left:0px solid transparent;border-right:0px solid tr=\\r\\nansparent;border-bottom:0px solid transparent;border-radius:0px\">\\r\\n                     =20\\r\\n\\r\\n                      <table style=3D\"font-family:arial,helvetica,sans-seri=\\r\\nf\" role=3D\"presentation\" cellpadding=3D\"0\" cellspacing=3D\"0\" width=3D\"100%\"=\\r\\n border=3D\"0\">\\r\\n                        <tbody>\\r\\n                          <tr>\\r\\n                            <td style=3D\"word-break:break-word;padding:10px=\\r\\n;font-family:arial,helvetica,sans-serif\" align=3D\"left\">\\r\\n\\r\\n                              <div align=3D\"center\">\\r\\n                                <div style=3D\"display:table;max-width:147px=\\r\\n\">\\r\\n                                 =20\\r\\n\\r\\n\\r\\n                                 =20\\r\\n                                  <table align=3D\"left\" border=3D\"0\" cellsp=\\r\\nacing=3D\"0\" cellpadding=3D\"0\" width=3D\"32\" height=3D\"32\" style=3D\"width:32p=\\r\\nx!important;height:32px!important;display:inline-block;border-collapse:coll=\\r\\napse;table-layout:fixed;border-spacing:0;vertical-align:top;margin-right:5p=\\r\\nx\">\\r\\n                                    <tbody>\\r\\n                                      <tr style=3D\"vertical-align:top\">\\r\\n                                        <td align=3D\"left\" valign=3D\"middle=\\r\\n\" style=3D\"word-break:break-word;border-collapse:collapse!important;vertica=\\r\\nl-align:top\">\\r\\n                                          <a href=3D\"bit.ly/NPTELFB\" title=\\r\\n=3D\"Facebook\" target=3D\"_blank\">\\r\\n                                            <img src=3D\"https://cdn.tools.u=\\r\\nnlayer.com/social/icons/circle/facebook.png\" alt=3D\"Facebook\" title=3D\"Face=\\r\\nbook\" width=3D\"32\" style=3D\"outline: none;text-decoration: none;-ms-interpo=\\r\\nlation-mode: bicubic;clear: both;display: block !important;border: none;hei=\\r\\nght: auto;float: none;max-width: 32px !important\">\\r\\n                                          </a>\\r\\n                                        </td>\\r\\n                                      </tr>\\r\\n                                    </tbody>\\r\\n                                  </table>\\r\\n                                 =20\\r\\n\\r\\n                                 =20\\r\\n                                  <table align=3D\"left\" border=3D\"0\" cellsp=\\r\\nacing=3D\"0\" cellpadding=3D\"0\" width=3D\"32\" height=3D\"32\" style=3D\"width:32p=\\r\\nx!important;height:32px!important;display:inline-block;border-collapse:coll=\\r\\napse;table-layout:fixed;border-spacing:0;vertical-align:top;margin-right:5p=\\r\\nx\">\\r\\n                                    <tbody>\\r\\n                                      <tr style=3D\"vertical-align:top\">\\r\\n                                        <td align=3D\"left\" valign=3D\"middle=\\r\\n\" style=3D\"word-break:break-word;border-collapse:collapse!important;vertica=\\r\\nl-align:top\">\\r\\n                                          <a href=3D\"bit.ly/NPTELTW\" title=\\r\\n=3D\"Twitter\" target=3D\"_blank\">\\r\\n                                            <img src=3D\"https://cdn.tools.u=\\r\\nnlayer.com/social/icons/circle/twitter.png\" alt=3D\"Twitter\" title=3D\"Twitte=\\r\\nr\" width=3D\"32\" style=3D\"outline: none;text-decoration: none;-ms-interpolat=\\r\\nion-mode: bicubic;clear: both;display: block !important;border: none;height=\\r\\n: auto;float: none;max-width: 32px !important\">\\r\\n                                          </a>\\r\\n                                        </td>\\r\\n                                      </tr>\\r\\n                                    </tbody>\\r\\n                                  </table>\\r\\n                                 =20\\r\\n\\r\\n                                 =20\\r\\n                                  <table align=3D\"left\" border=3D\"0\" cellsp=\\r\\nacing=3D\"0\" cellpadding=3D\"0\" width=3D\"32\" height=3D\"32\" style=3D\"width:32p=\\r\\nx!important;height:32px!important;display:inline-block;border-collapse:coll=\\r\\napse;table-layout:fixed;border-spacing:0;vertical-align:top;margin-right:5p=\\r\\nx\">\\r\\n                                    <tbody>\\r\\n                                      <tr style=3D\"vertical-align:top\">\\r\\n                                        <td align=3D\"left\" valign=3D\"middle=\\r\\n\" style=3D\"word-break:break-word;border-collapse:collapse!important;vertica=\\r\\nl-align:top\">\\r\\n                                          <a href=3D\"bit.ly/NPTELINSTA\" tit=\\r\\nle=3D\"Instagram\" target=3D\"_blank\">\\r\\n                                            <img src=3D\"https://cdn.tools.u=\\r\\nnlayer.com/social/icons/circle/instagram.png\" alt=3D\"Instagram\" title=3D\"In=\\r\\nstagram\" width=3D\"32\" style=3D\"outline: none;text-decoration: none;-ms-inte=\\r\\nrpolation-mode: bicubic;clear: both;display: block !important;border: none;=\\r\\nheight: auto;float: none;max-width: 32px !important\">\\r\\n                                          </a>\\r\\n                                        </td>\\r\\n                                      </tr>\\r\\n                                    </tbody>\\r\\n                                  </table>\\r\\n                                 =20\\r\\n\\r\\n                                 =20\\r\\n                                  <table align=3D\"left\" border=3D\"0\" cellsp=\\r\\nacing=3D\"0\" cellpadding=3D\"0\" width=3D\"32\" height=3D\"32\" style=3D\"width:32p=\\r\\nx!important;height:32px!important;display:inline-block;border-collapse:coll=\\r\\napse;table-layout:fixed;border-spacing:0;vertical-align:top;margin-right:0p=\\r\\nx\">\\r\\n                                    <tbody>\\r\\n                                      <tr style=3D\"vertical-align:top\">\\r\\n                                        <td align=3D\"left\" valign=3D\"middle=\\r\\n\" style=3D\"word-break:break-word;border-collapse:collapse!important;vertica=\\r\\nl-align:top\">\\r\\n                                          <a href=3D\"bit.ly/NPTELLN\" title=\\r\\n=3D\"LinkedIn\" target=3D\"_blank\">\\r\\n                                            <img src=3D\"https://cdn.tools.u=\\r\\nnlayer.com/social/icons/circle/linkedin.png\" alt=3D\"LinkedIn\" title=3D\"Link=\\r\\nedIn\" width=3D\"32\" style=3D\"outline: none;text-decoration: none;-ms-interpo=\\r\\nlation-mode: bicubic;clear: both;display: block !important;border: none;hei=\\r\\nght: auto;float: none;max-width: 32px !important\">\\r\\n                                          </a>\\r\\n                                        </td>\\r\\n                                      </tr>\\r\\n                                    </tbody>\\r\\n                                  </table>\\r\\n                                 =20\\r\\n\\r\\n\\r\\n                                 =20\\r\\n                                </div>\\r\\n                              </div>\\r\\n\\r\\n                            </td>\\r\\n                          </tr>\\r\\n                        </tbody>\\r\\n                      </table>\\r\\n\\r\\n                     =20\\r\\n                    </div>\\r\\n                   =20\\r\\n                  </div>\\r\\n                </div>\\r\\n               =20\\r\\n               =20\\r\\n              </div>\\r\\n            </div>\\r\\n          </div>\\r\\n\\r\\n\\r\\n         =20\\r\\n        </td>\\r\\n      </tr>\\r\\n    </tbody>\\r\\n  </table>\\r\\n =20\\r\\n =20\\r\\n\\r\\n\\r\\n\\r\\n\\r\\n\\r\\n<br clear=3D\"all\"><div><div dir=3D\"ltr\" class=3D\"gmail_signature\" data-smar=\\r\\ntmail=3D\"gmail_signature\"><div dir=3D\"ltr\"><div><div dir=3D\"ltr\"><div dir=\\r\\n=3D\"ltr\"><div><div style=3D\"font-size:12.8px\"><br></div></div><div>Thanks a=\\r\\nnd Regards,</div><div>NPTEL TEAM.</div></div></div></div></div></div></div>=\\r\\n</div>\\r\\n\\r\\n<p></p>\\r\\n\\r\\n-- <br />\\r\\nTo unsubscribe from this group and stop receiving emails from it:<br />\\r\\nLog in to Google Groups and click on My Groups seen in the left navigation =\\r\\npane. You will see the list of your groups. Choose the group &quot;NPTEL Ne=\\r\\nwsletter&quot;<br />\\r\\nClick the Leave Group icon on the right side to leave the group or you can =\\r\\nchoose the &quot;No email&quot; option under Subscription to stop receiving=\\r\\n these emails.<br />\\r\\n--- <br />\\r\\nTo unsubscribe from this group and stop receiving emails from it, send an e=\\r\\nmail to <a href=3D\"mailto:newsletter-announce+unsubscribe@nptel.iitm.ac.in\"=\\r\\n>newsletter-announce+unsubscribe@nptel.iitm.ac.in</a>.<br />\\r\\n\\r\\n--00000000000085ea3f05f20fbddb--\\r\\n'),\n",
       " b')']"
      ]
     },
     "execution_count": 13,
     "metadata": {},
     "output_type": "execute_result"
    }
   ],
   "source": [
    "email_data"
   ]
  },
  {
   "cell_type": "code",
   "execution_count": 14,
   "id": "7cde46bd",
   "metadata": {},
   "outputs": [],
   "source": [
    "raw_email=email_data[0][1]"
   ]
  },
  {
   "cell_type": "code",
   "execution_count": 15,
   "id": "22d5fc90",
   "metadata": {},
   "outputs": [],
   "source": [
    "raw_email_string=raw_email.decode('utf-8')"
   ]
  },
  {
   "cell_type": "code",
   "execution_count": 16,
   "id": "997ca00c",
   "metadata": {},
   "outputs": [],
   "source": [
    "import email\n",
    "email_message=email.message_from_string(raw_email_string)"
   ]
  },
  {
   "cell_type": "code",
   "execution_count": 17,
   "id": "50c9159d",
   "metadata": {},
   "outputs": [
    {
     "name": "stdout",
     "output_type": "stream",
     "text": [
      "b'<https://bit.ly/NPTELTW>\\r\\n[image: Facebook] <bit.ly/NPTELFB>\\r\\n[image: Twitter] <bit.ly/NPTELTW>\\r\\n[image: Instagram] <bit.ly/NPTELINSTA>\\r\\n[image: LinkedIn] <bit.ly/NPTELLN>\\r\\n\\r\\n\\r\\nThanks and Regards,\\r\\nNPTEL TEAM.\\r\\n\\r\\n-- \\r\\nTo unsubscribe from this group and stop receiving emails from it:\\r\\nLog in to Google Groups and click on My Groups seen in the left navigation pane. You will see the list of your groups. Choose the group \"NPTEL Newsletter\"\\r\\nClick the Leave Group icon on the right side to leave the group or you can choose the \"No email\" option under Subscription to stop receiving these emails.\\r\\n--- \\r\\nTo unsubscribe from this group and stop receiving emails from it, send an email to newsletter-announce+unsubscribe@nptel.iitm.ac.in.\\r\\n'\n"
     ]
    }
   ],
   "source": [
    "for part in email_message.walk():\n",
    "    if part.get_content_type() == 'text/plain':\n",
    "        body=part.get_payload(decode=True)\n",
    "        print(body)"
   ]
  },
  {
   "cell_type": "code",
   "execution_count": null,
   "id": "69b9b883",
   "metadata": {},
   "outputs": [],
   "source": []
  }
 ],
 "metadata": {
  "kernelspec": {
   "display_name": "Python 3 (ipykernel)",
   "language": "python",
   "name": "python3"
  },
  "language_info": {
   "codemirror_mode": {
    "name": "ipython",
    "version": 3
   },
   "file_extension": ".py",
   "mimetype": "text/x-python",
   "name": "python",
   "nbconvert_exporter": "python",
   "pygments_lexer": "ipython3",
   "version": "3.9.12"
  }
 },
 "nbformat": 4,
 "nbformat_minor": 5
}
