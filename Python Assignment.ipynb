{
 "cells": [
  {
   "cell_type": "code",
   "execution_count": 2,
   "id": "3319ae5c",
   "metadata": {},
   "outputs": [
    {
     "name": "stdout",
     "output_type": "stream",
     "text": [
      "1.21.5\n"
     ]
    }
   ],
   "source": [
    "import numpy as np\n",
    "print(np.__version__)"
   ]
  },
  {
   "cell_type": "code",
   "execution_count": 5,
   "id": "247c333a",
   "metadata": {},
   "outputs": [],
   "source": [
    "#(1)EXPLAIN EVENT HANDLING WHILE WORKING WITH GUI.WRITE THE PROGRAM TO HANDLE KEY EVENTS & MOUSE EVENTS \n",
    "import tkinter\n",
    "from tkinter import *\n",
    "w=Tk()\n",
    "w.geometry(\"320x500\")\n",
    "T = Text(w, bg=\"red\", fg=\"white\",height=10)\n",
    "a=Label(text=\"\")\n",
    "b=Label(text=\"\")\n",
    "m1=Label(text=\"\")\n",
    "m2=Label(text=\"\")\n",
    "m3=Label(text=\"\")\n",
    "m4=Label(text=\"\")\n",
    "m5=Label(text=\"\")\n",
    "m6=Label(text=\"\")\n",
    "m7=Label(text=\"\")\n",
    "m8=Label(text=\"\")\n",
    "m9=Label(text=\"\")\n",
    "a.pack()\n",
    "b.pack()\n",
    "m1.pack()\n",
    "m2.pack()\n",
    "m3.pack()\n",
    "m4.pack()\n",
    "m5.pack()\n",
    "m6.pack()\n",
    "m7.pack()\n",
    "m8.pack()\n",
    "m9.pack()\n",
    "\n",
    "\n",
    "#___KEY EVENTS___\n",
    "def key_press(e):\n",
    "    a.config(text=\"key pressed\")\n",
    "def key_released(e):\n",
    "    b.config(text=\"key released\")  \n",
    "\n",
    "#___MOUSE EVENTS___\n",
    "def func_m1(e):\n",
    "    m1.config(text=\"Mouse Left button click\")\n",
    "def func_m2(e):\n",
    "    m2.config(text=\"Mouse center button click\")\n",
    "def func_m3(e):\n",
    "    m3.config(text=\"Mouse Right button click\")\n",
    "def func_m4(e):\n",
    "    m4.config(text=\"Mouse Left button Press and move\")\n",
    "def func_m5(e):\n",
    "    m5.config(text=\"Mouse Left button release, ButtonRelease-2 for Middle and 3 for right button.\")\n",
    "def func_m6(e):\n",
    "    m6.config(text=\"Left Mouse key is double clicked.\")\n",
    "def func_m7(e):\n",
    "    m7.config(text=\"Mouse Entry over a widget\")\n",
    "def func_m8(e):\n",
    "    m8.config(text=\"Mouse Leave a widget\")\n",
    "def func_m9(e):\n",
    "    m9.config(text=\"Mouse Wheel Up or Down rotation\")\n",
    "def return_pressed(event):\n",
    "    print('Return key pressed.')\n",
    "btn = Button(w, text='Save')\n",
    "btn.bind('<Return>', return_pressed)\n",
    "btn.pack()\n",
    "w.bind('<KeyPress>',key_press)\n",
    "w.bind('<KeyRelease>',key_released )\n",
    "w.bind('<Button-1>',func_m1)\n",
    "w.bind('<Button-2>',func_m2)\n",
    "w.bind('<Button-3>',func_m3)\n",
    "w.bind('<B1-Motion>',func_m4)\n",
    "w.bind('<ButtonRelease-1>',func_m5)\n",
    "w.bind('<Double-Button-1>',func_m6)\n",
    "w.bind('<Enter>',func_m7)\n",
    "w.bind('<Leave>',func_m8)\n",
    "w.bind('<MouseWheel>',func_m9)\n",
    "T.pack()\n",
    "#w.bind('<Button-1>',display_text)\n",
    "\n",
    "w.mainloop()"
   ]
  },
  {
   "cell_type": "code",
   "execution_count": 1,
   "id": "f00f6dc9",
   "metadata": {},
   "outputs": [],
   "source": [
    "#(2)IMPLEMENT A PROGRAM TO CREATE SIMPLE CALCULATOR GUI\n",
    "import tkinter \n",
    "from tkinter import *\n",
    "w=Tk() \n",
    "w.geometry(\"320x500\") \n",
    "w.resizable(0,0) \n",
    "f=Frame(w) \n",
    "f1=Frame(w) \n",
    "T = Text(f, bg=\"black\", fg=\"white\",height=10) \n",
    "b1=Button(f1,text=\"1\",bg=\"red\",fg=\"white\",width=10,height=5)\n",
    "b2=Button(f1,text=\"2\",bg=\"red\",fg=\"white\",width=10,height=5) \n",
    "b3=Button(f1,text=\"3\",bg=\"red\",fg=\"white\",width=10,height=5) \n",
    "b4=Button(f1,text=\"4\",bg=\"red\",fg=\"white\",width=10,height=5) \n",
    "b5=Button(f1,text=\"5\",bg=\"red\",fg=\"white\",width=10,height=5) \n",
    "b6=Button(f1,text=\"6\",bg=\"red\",fg=\"white\",width=10,height=5) \n",
    "b7=Button(f1,text=\"7\",bg=\"red\",fg=\"white\",width=10,height=5) \n",
    "b8=Button(f1,text=\"8\",bg=\"red\",fg=\"white\",width=10,height=5) \n",
    "b9=Button(f1,text=\"9\",bg=\"red\",fg=\"white\",width=10,height=5) \n",
    "b10=Button(f1,text=\"0\",bg=\"red\",fg=\"white\",width=10,height=5) \n",
    "b11=Button(f1,text=\".\",bg=\"red\",fg=\"white\",width=10,height=5) \n",
    "b12=Button(f1,text=\"+\",bg=\"red\",fg=\"white\",width=10,height=5) \n",
    "b13=Button(f1,text=\"-\",bg=\"red\",fg=\"white\",width=10,height=5) \n",
    "b14=Button(f1,text=\"*\",bg=\"red\",fg=\"white\",width=10,height=5) \n",
    "b15=Button(f1,text=\"%\",bg=\"red\",fg=\"white\",width=10,height=5) \n",
    "b16=Button(f1,text=\"=\",bg=\"red\",fg=\"white\",width=10,height=5) \n",
    "f.pack(side=TOP) \n",
    "f1.pack(side=BOTTOM) \n",
    "T.pack(side=TOP) \n",
    "b1.grid(column=0,row=1) \n",
    "b2.grid(column=1,row=1) \n",
    "b3.grid(column=2,row=1) \n",
    "b4.grid(column=3,row=1) \n",
    "b5.grid(column=0,row=2) \n",
    "b6.grid(column=1,row=2) \n",
    "b7.grid(column=2,row=2) \n",
    "b8.grid(column=3,row=2) \n",
    "b9.grid(column=0,row=3) \n",
    "b10.grid(column=1,row=3) \n",
    "b11.grid(column=2,row=3) \n",
    "b12.grid(column=3,row=3) \n",
    "b13.grid(column=0,row=4) \n",
    "b14.grid(column=1,row=4) \n",
    "b15.grid(column=2,row=4) \n",
    "b16.grid(column=3,row=4) \n",
    "w.mainloop()"
   ]
  },
  {
   "cell_type": "code",
   "execution_count": null,
   "id": "7fcce724",
   "metadata": {},
   "outputs": [],
   "source": [
    "#(3)EXPLAIN HOW TO LOAD DATASET,SPLIT DATASET INTO TRAIN AND TEST & MODEL THE ALGORITHM USING SKLEARN\n"
   ]
  },
  {
   "cell_type": "code",
   "execution_count": 6,
   "id": "b7c3b190",
   "metadata": {},
   "outputs": [
    {
     "name": "stdout",
     "output_type": "stream",
     "text": [
      "[[1 7]\n",
      " [2 7]] \n",
      "\n",
      "[[7 3]\n",
      " [6 9]] \n",
      "\n",
      "_____ADDITION OF TWO MATRICES_____\n",
      "\n",
      "[[ 8 10]\n",
      " [ 8 16]] \n",
      "\n",
      "_____ADDITION OF TWO MATRICES ROW WISE_____\n",
      "\n",
      "[[1 7 7 3]\n",
      " [2 7 6 9]] \n",
      "\n",
      "_____ADDITION OF TWO MATRICES COLUMN WISE_____\n",
      "\n",
      "[[1 7]\n",
      " [2 7]\n",
      " [7 3]\n",
      " [6 9]] \n",
      "\n",
      "_____MULTIPLICATION OF TWO MATRICES ELEMENT WISE_____\n",
      "\n",
      "[[ 7 21]\n",
      " [12 63]] \n",
      "\n",
      "____MULTIPLICTION OF TWO MATRICES ROW WISE & COLUMN WISE_____\n",
      "\n",
      "[[49 66]\n",
      " [56 69]] \n",
      "\n",
      "[[49 66]\n",
      " [56 69]] \n",
      "\n",
      "[[49 66]\n",
      " [56 69]]\n"
     ]
    }
   ],
   "source": [
    "#(4)EXPLAIN MATRIX ADDITION,MULTIPLICATION ELEMENT WISE ,ROW WISE & COLUMN WISE\n",
    "import numpy as np\n",
    "a=np.array([[1,7],[2,7]])\n",
    "b=np.array([[7,3],[6,9]])\n",
    "print(a,\"\\n\")\n",
    "print(b,\"\\n\")\n",
    "\n",
    "print(\"_____ADDITION OF TWO MATRICES_____\\n\")\n",
    "print(np.add(a,b),\"\\n\")\n",
    "#print(a+b)\n",
    "print(\"_____ADDITION OF TWO MATRICES ROW WISE_____\\n\")\n",
    "print(np.hstack((a,b)),\"\\n\")\n",
    "print(\"_____ADDITION OF TWO MATRICES COLUMN WISE_____\\n\")\n",
    "print(np.vstack((a,b)),\"\\n\")\n",
    "print(\"_____MULTIPLICATION OF TWO MATRICES ELEMENT WISE_____\\n\")\n",
    "print(np.multiply(a,b),\"\\n\")\n",
    "#print(a*b)\n",
    "\n",
    "print(\"____MULTIPLICTION OF TWO MATRICES ROW WISE & COLUMN WISE_____\\n\")\n",
    "print(a.dot(b),\"\\n\")\n",
    "print(a@b,\"\\n\")\n",
    "print(np.matmul(a,b))"
   ]
  },
  {
   "cell_type": "code",
   "execution_count": 13,
   "id": "9a448280",
   "metadata": {},
   "outputs": [
    {
     "name": "stdout",
     "output_type": "stream",
     "text": [
      "['Solarize_Light2', '_classic_test_patch', '_mpl-gallery', '_mpl-gallery-nogrid', 'bmh', 'classic', 'dark_background', 'fast', 'fivethirtyeight', 'ggplot', 'grayscale', 'seaborn', 'seaborn-bright', 'seaborn-colorblind', 'seaborn-dark', 'seaborn-dark-palette', 'seaborn-darkgrid', 'seaborn-deep', 'seaborn-muted', 'seaborn-notebook', 'seaborn-paper', 'seaborn-pastel', 'seaborn-poster', 'seaborn-talk', 'seaborn-ticks', 'seaborn-white', 'seaborn-whitegrid', 'tableau-colorblind10']\n"
     ]
    },
    {
     "data": {
      "image/png": "[encoded data removed]",
      "text/plain": [
       "<Figure size 432x288 with 1 Axes>"
      ]
     },
     "metadata": {
      "needs_background": "light"
     },
     "output_type": "display_data"
    },
    {
     "data": {
      "image/png": "[encoded data removed]",
      "text/plain": [
       "<Figure size 432x288 with 1 Axes>"
      ]
     },
     "metadata": {
      "needs_background": "light"
     },
     "output_type": "display_data"
    },
    {
     "data": {
      "image/png": "[encoded data removed]",
      "text/plain": [
       "<Figure size 432x288 with 1 Axes>"
      ]
     },
     "metadata": {
      "needs_background": "light"
     },
     "output_type": "display_data"
    },
    {
     "data": {
      "image/png": "[encoded data removed]",
      "text/plain": [
       "<Figure size 720x504 with 1 Axes>"
      ]
     },
     "metadata": {
      "needs_background": "light"
     },
     "output_type": "display_data"
    }
   ],
   "source": [
    "#(5)EXPLAIN DIFFERENT FUNCTIONS AVAILABLE IN MATPLOT LIB WITH EXAMPLE PROGRAM\n",
    "import numpy as np\n",
    "import matplotlib\n",
    "from matplotlib import pyplot as plt\n",
    "from matplotlib import style\n",
    "print(plt.style.available)\n",
    "\n",
    "#LINE PLOT\n",
    "fig = plt.figure()\n",
    "ax = plt.axes()\n",
    "x = np.linspace(0, 10, 1000)\n",
    "ax.plot(x, np.sin(x))\n",
    "ax.set_title('Line Plot')   # Add a title\n",
    "ax.set_xlabel('x label')          # Add x label\n",
    "ax.set_ylabel('y label');         # Add y label\n",
    "\n",
    "#HISTOGRAM\n",
    "data = np.random.randn(1000)\n",
    "plt.hist(data, bins=50, \n",
    "         histtype='bar', \n",
    "         color='red',\n",
    "        );\n",
    "\n",
    "#BAR PLOT\n",
    "data = {'Apple': 10, 'Orange': 15, 'Lemon': 5, 'Lime': 20}\n",
    "names = list(data.keys())\n",
    "values = list(data.values())\n",
    "fig = plt.figure()\n",
    "ax = plt.axes()\n",
    "ax.bar(names, values);\n",
    "\n",
    "#SCATTER PLOY\n",
    "x = np.random.randn(20)\n",
    "y = np.random.randn(20)\n",
    "fig, ax = plt.subplots()\n",
    "ax.scatter(x, y);\n",
    "\n",
    "#PIE CHART\n",
    "\n",
    "#BOX PLOT\n",
    "# Creating dataset\n",
    "np.random.seed(10)\n",
    "data = np.random.normal(100, 20, 200)\n",
    "fig = plt.figure(figsize =(10, 7))\n",
    "plt.boxplot(data)# Creating plot\n",
    "plt.show() # show plot\n",
    "\n",
    "#AREA CHART\n",
    "#WORD CLOUD \n",
    "#3D GRAPHS"
   ]
  }
 ],
 "metadata": {
  "kernelspec": {
   "display_name": "Python 3 (ipykernel)",
   "language": "python",
   "name": "python3"
  },
  "language_info": {
   "codemirror_mode": {
    "name": "ipython",
    "version": 3
   },
   "file_extension": ".py",
   "mimetype": "text/x-python",
   "name": "python",
   "nbconvert_exporter": "python",
   "pygments_lexer": "ipython3",
   "version": "3.9.12"
  }
 },
 "nbformat": 4,
 "nbformat_minor": 5
}
