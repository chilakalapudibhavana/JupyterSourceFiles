{
 "cells": [
  {
   "cell_type": "code",
   "execution_count": 1,
   "id": "96df26eb",
   "metadata": {},
   "outputs": [
    {
     "name": "stdout",
     "output_type": "stream",
     "text": [
      "0\n",
      "6\n",
      "16\n",
      "[5 2 9]\n",
      "[ 6 10]\n",
      "[[1.         1.41421356 1.73205081]\n",
      " [2.         0.         2.44948974]]\n",
      "1.9720265943665387\n"
     ]
    }
   ],
   "source": [
    "import numpy as np\n",
    "a=np.array([(1,2,3),(4,0,6)])\n",
    "print(a.min())\n",
    "print(a.max())\n",
    "print(a.sum())\n",
    "print(a.sum(axis=0))\n",
    "print(a.sum(axis=1))\n",
    "print(np.sqrt(a))\n",
    "print(np.std(a))"
   ]
  },
  {
   "cell_type": "code",
   "execution_count": 4,
   "id": "a2d40366",
   "metadata": {},
   "outputs": [
    {
     "name": "stdout",
     "output_type": "stream",
     "text": [
      "[[1 2 3]\n",
      " [5 6 7]]\n",
      "--------------\n",
      "[[1 2 3]]\n",
      "--------------\n",
      "[1 5]\n",
      "--------------\n",
      "[1]\n",
      "--------------\n",
      "[1]\n",
      "--------------\n",
      "3\n",
      "--------------\n",
      "6\n"
     ]
    }
   ],
   "source": [
    "import numpy as np\n",
    "a=np.array([(1,2,3),(5,6,7)])\n",
    "print(a[0:,])\n",
    "print(\"--------------\")\n",
    "print(a[0:1,])\n",
    "print(\"--------------\")\n",
    "print(a[0:2,0])\n",
    "print(\"--------------\")\n",
    "print(a[0:1,0])\n",
    "print(\"--------------\")\n",
    "print(a[-2:1,0])\n",
    "print(\"--------------\")\n",
    "print(a[0,2])\n",
    "print(\"--------------\")\n",
    "print(a[1,1])"
   ]
  },
  {
   "cell_type": "code",
   "execution_count": 5,
   "id": "430bcfa3",
   "metadata": {},
   "outputs": [
    {
     "name": "stdout",
     "output_type": "stream",
     "text": [
      "a shape= (3, 3) \n",
      " [[1 2 3]\n",
      " [4 5 6]\n",
      " [7 8 9]]\n",
      "---------\n",
      "b shape== (1, 3) \n",
      " [[1 2 3]]\n",
      "---------\n",
      "c shape== (3,) \n",
      " [1 2 3]\n"
     ]
    }
   ],
   "source": [
    "import numpy as np\n",
    "a=np.array([(1,2,3),(4,5,6),(7,8,9)])\n",
    "print(\"a shape=\",a.shape,\"\\n\",a)\n",
    "print(\"---------\")\n",
    "b=np.array([(1,2,3)])\n",
    "print(\"b shape==\",b.shape,\"\\n\",b)\n",
    "print(\"---------\")\n",
    "c=np.array([1,2,3])\n",
    "print(\"c shape==\",c.shape,\"\\n\",c)"
   ]
  },
  {
   "cell_type": "code",
   "execution_count": 6,
   "id": "f49cf69e",
   "metadata": {},
   "outputs": [
    {
     "name": "stdout",
     "output_type": "stream",
     "text": [
      "DATA TYPE OF ARRAY a IS= int32 Integer 32 bit\n",
      "DATA TYPE OF ARRAY b IS= <U13 U stands for Unicode and integer describes string with max length\n",
      "DATA TYPE OF ARRAY c IS= float64 float 64 bit\n",
      "DATA TYPE OF ARRAY d IS= <U1 U stands for Unicode and integer describes string with max length\n"
     ]
    }
   ],
   "source": [
    "import numpy as np\n",
    "a=np.array([(1,2,3),(4,5,6)])\n",
    "b=np.array([(\"naidu\",\"anits\"),(\"college\",\"anits college\")])\n",
    "c=np.array([(1.5,2,3.678),(4.05,567777.8,6.0)])\n",
    "d=np.array([(\"a\",\"b\"),('c','d')])\n",
    "print(\"DATA TYPE OF ARRAY a IS=\",a.dtype,\"Integer 32 bit\")\n",
    "print(\"DATA TYPE OF ARRAY b IS=\",b.dtype,\"U stands for Unicode and integer describes string with max length\")\n",
    "print(\"DATA TYPE OF ARRAY c IS=\",c.dtype,\"float 64 bit\")\n",
    "print(\"DATA TYPE OF ARRAY d IS=\",d.dtype,\"U stands for Unicode and integer describes string with max length\")"
   ]
  },
  {
   "cell_type": "code",
   "execution_count": 7,
   "id": "5ace4191",
   "metadata": {
    "scrolled": true
   },
   "outputs": [
    {
     "name": "stdout",
     "output_type": "stream",
     "text": [
      "THE DIMENSION OF ARRAY C IS= 2    [[1 2 4]]\n",
      "THE DIMENSION OF ARRAY A IS= 1    [1 2 3]\n",
      "THE DIMENSION OF ARRAY c1 IS= 1    [1.5]\n",
      "THE DIMENSION OF ARRAY D IS= 2    [[1.5]]\n",
      "THE DIMENSION OF ARRAY c2 IS= 1    [1.5]\n",
      "THE DIMENSION OF ARRAY E IS= 2    [[1 2 3]\n",
      " [4 5 6]]\n"
     ]
    }
   ],
   "source": [
    "c=np.array([(1,2,4)])\n",
    "print(\"THE DIMENSION OF ARRAY C IS=\", c.ndim,\"  \",c) \n",
    "a=np.array([1,2,3])\n",
    "print(\"THE DIMENSION OF ARRAY A IS=\", a.ndim,\"  \",a) \n",
    "c1=np.array([(1.5)])\n",
    "print(\"THE DIMENSION OF ARRAY c1 IS=\", c1.ndim,\"  \",c1) \n",
    "d=np.array([(1.5,)])\n",
    "print(\"THE DIMENSION OF ARRAY D IS=\", d.ndim,\"  \",d) \n",
    "c2=np.array([(1.5),])\n",
    "print(\"THE DIMENSION OF ARRAY c2 IS=\", c2.ndim,\"  \",c2)\n",
    "e=np.array([(1,2,3),(4,5,6)])\n",
    "print(\"THE DIMENSION OF ARRAY E IS=\", e.ndim,\"  \",e) "
   ]
  },
  {
   "cell_type": "code",
   "execution_count": 8,
   "id": "160f93eb",
   "metadata": {
    "scrolled": true
   },
   "outputs": [
    {
     "name": "stdout",
     "output_type": "stream",
     "text": [
      "THE BYTE SIZE OF ARRAY ELEMENT in a IS= 4  each integer occupies 4 bytes\n",
      "\n",
      " [[1 2 3]\n",
      " [4 5 6]]\n",
      "\n",
      " THE BYTE SIZE OF ARRAY ELEMENT in b IS= 52  each charecter occupies 4 bytes \n",
      "it Returns byte size of max string in array \n",
      " hence size=4*size of max string =4* 13\n",
      "\n",
      " THE BYTE SIZE OF 1st ELEMENT in ARRAY b IS= 20  each charecter occupies 4 bytes \n",
      " hence size=4*size of string  = 4* 5\n",
      "\n",
      " [['naidu' 'anits']\n",
      " ['college' 'anits college']]\n",
      "THE BYTE SIZE OF ARRAY ELEMENT in c IS= 8  each float occupies 8 bytes\n",
      "\n",
      " [[1.500000e+00 2.000000e+00 3.678000e+00]\n",
      " [4.050000e+00 5.677778e+05 6.000000e+00]]\n",
      "\n",
      " THE BYTE SIZE OF ARRAY ELEMENT in d IS= 4  each charecter occupies 4 bytes\n",
      "\n",
      " [['a' 'b']\n",
      " ['c' 'd']]\n"
     ]
    }
   ],
   "source": [
    "import numpy as np\n",
    "a=np.array([(1,2,3),(4,5,6)])\n",
    "b=np.array([(\"naidu\",\"anits\"),(\"college\",\"anits college\")])\n",
    "c=np.array([(1.5,2,3.678),(4.05,567777.8,6.0)])\n",
    "d=np.array([(\"a\",\"b\"),('c','d')])\n",
    "\n",
    "print(\"THE BYTE SIZE OF ARRAY ELEMENT in a IS=\",a.itemsize,\" each integer occupies 4 bytes\")\n",
    "print(\"\\n\",a)\n",
    "\n",
    "print(\"\\n\",\"THE BYTE SIZE OF ARRAY ELEMENT in b IS=\",b.itemsize,\" each charecter occupies 4 bytes \\nit Returns byte size of max string in array \\n hence size=4*size of max string\",\"=4*\",len(max(b.flatten(),key=len)))\n",
    "\n",
    "print(\"\\n\",\"THE BYTE SIZE OF 1st ELEMENT in ARRAY b IS=\",b[0,0].itemsize,\" each charecter occupies 4 bytes \\n hence size=4*size of string\",\" = 4*\",len(b[0,0]))\n",
    "print(\"\\n\",b)\n",
    "\n",
    "print(\"THE BYTE SIZE OF ARRAY ELEMENT in c IS=\",c.itemsize,\" each float occupies 8 bytes\")\n",
    "print(\"\\n\",c)\n",
    "\n",
    "print(\"\\n\",\"THE BYTE SIZE OF ARRAY ELEMENT in d IS=\",d.itemsize,\" each charecter occupies 4 bytes\")\n",
    "print(\"\\n\",d)"
   ]
  },
  {
   "cell_type": "code",
   "execution_count": 9,
   "id": "c5a5dbec",
   "metadata": {},
   "outputs": [
    {
     "name": "stdout",
     "output_type": "stream",
     "text": [
      "28\n",
      "28000\n",
      "4\n",
      "4000\n"
     ]
    }
   ],
   "source": [
    "import numpy as np\n",
    "import time\n",
    "import sys\n",
    "s=range(1000)\n",
    "print(sys.getsizeof(s[1]))\n",
    "print(sys.getsizeof(s[1])*len(s))\n",
    "a=np.arange(1000)\n",
    "print(a.itemsize)\n",
    "print(a.size*a.itemsize)"
   ]
  },
  {
   "cell_type": "code",
   "execution_count": 10,
   "id": "453c841c",
   "metadata": {},
   "outputs": [
    {
     "name": "stdout",
     "output_type": "stream",
     "text": [
      "max  in 1st row is 3\n",
      "[[1 2 3]\n",
      " [4 0 6]]\n",
      "max  in array is 6\n",
      "[1 2 3 4 0 6]\n",
      "min  in 1st row is 1\n",
      "[[1 2 3]\n",
      " [4 0 6]]\n",
      "min  in array is 0\n",
      "[1 2 3 4 0 6]\n"
     ]
    }
   ],
   "source": [
    "import numpy as np\n",
    "a=np.array([(1,2,3),(4,0,6)])\n",
    "print(\"max  in 1st row is\",max(a[0,:]))\n",
    "print(a)\n",
    "a1=a.flatten()\n",
    "print(\"max  in array is\",max(a1))\n",
    "print(a1)\n",
    "print(\"min  in 1st row is\",min(a[0,:]))\n",
    "print(a)\n",
    "print(\"min  in array is\",min(a1))\n",
    "print(a1)"
   ]
  },
  {
   "cell_type": "code",
   "execution_count": 11,
   "id": "86fd9c6a",
   "metadata": {
    "scrolled": true
   },
   "outputs": [
    {
     "name": "stdout",
     "output_type": "stream",
     "text": [
      "max string in 1st row is anits\n",
      "max string in entire array is anits college\n",
      "max string in 1st column is work\n",
      "max string in 1st row is hai\n",
      "max string in entire array is work\n"
     ]
    }
   ],
   "source": [
    "import numpy as np\n",
    "b=np.array([(\"hai\",\"anits\"),(\"work\",\"anits college\")])\n",
    "# to get the max string from a specific row based on length\n",
    "print(\"max string in 1st row is\",max(b[0,:],key=len))\n",
    "# to get the max string from entire array based on length : first flatten(convert all rows into single row)\n",
    "b1=b.flatten()\n",
    "#now find max string in the single row\n",
    "print(\"max string in entire array is\",max(b1,key=len))\n",
    "# to get max string from specific column based on length\n",
    "print(\"max string in 1st column is\",max(b[:,0],key=len))\n",
    "# to get the max string from a specific row based on lexicographic order no need to specify key attribute\n",
    "print(\"max string in 1st row is\",max(b[0,:]))\n",
    "# to get the max string from entire array based on lexicographic order : first flatten(convert all rows into single row)\n",
    "#now find max string in the single row\n",
    "print(\"max string in entire array is\",max(b1))"
   ]
  },
  {
   "cell_type": "code",
   "execution_count": 12,
   "id": "58b9405b",
   "metadata": {},
   "outputs": [
    {
     "name": "stdout",
     "output_type": "stream",
     "text": [
      "TIME TAKEN FOR ADDITION OF TWO LISTS IS= 0.0 Milli Seconds\n",
      "[0, 2, 4, 6, 8, 10, 12, 14, 16, 18, 20, 22, 24, 26, 28, 30, 32, 34, 36, 38, 40, 42, 44, 46, 48, 50, 52, 54, 56, 58, 60, 62, 64, 66, 68, 70, 72, 74, 76, 78, 80, 82, 84, 86, 88, 90, 92, 94, 96, 98, 100, 102, 104, 106, 108, 110, 112, 114, 116, 118, 120, 122, 124, 126, 128, 130, 132, 134, 136, 138, 140, 142, 144, 146, 148, 150, 152, 154, 156, 158, 160, 162, 164, 166, 168, 170, 172, 174, 176, 178, 180, 182, 184, 186, 188, 190, 192, 194, 196, 198]\n",
      "TIME TAKEN FOR ADDITION OF TWO NUMPY ARRAYS IS= 0.0 Milli Seconds\n",
      "[  0   2   4   6   8  10  12  14  16  18  20  22  24  26  28  30  32  34\n",
      "  36  38  40  42  44  46  48  50  52  54  56  58  60  62  64  66  68  70\n",
      "  72  74  76  78  80  82  84  86  88  90  92  94  96  98 100 102 104 106\n",
      " 108 110 112 114 116 118 120 122 124 126 128 130 132 134 136 138 140 142\n",
      " 144 146 148 150 152 154 156 158 160 162 164 166 168 170 172 174 176 178\n",
      " 180 182 184 186 188 190 192 194 196 198]\n"
     ]
    }
   ],
   "source": [
    "import numpy as np\n",
    "import time\n",
    "import sys\n",
    "size=100\n",
    "l1=range(size)\n",
    "l2=range(size)\n",
    "a1=np.arange(size)\n",
    "a2=np.arange(size)\n",
    "st=time.time()\n",
    "res=[l1[i] + l2[i] for i in range(len(l1))]\n",
    "print(\"TIME TAKEN FOR ADDITION OF TWO LISTS IS=\", (time.time()-st)*1000,\"Milli Seconds\")\n",
    "print(res)\n",
    "st=time.time()\n",
    "res=a1+a2\n",
    "print(\"TIME TAKEN FOR ADDITION OF TWO NUMPY ARRAYS IS=\", (time.time()-st)*1000,\"Milli Seconds\")\n",
    "print(res)"
   ]
  },
  {
   "cell_type": "code",
   "execution_count": 13,
   "id": "4b28dd85",
   "metadata": {},
   "outputs": [
    {
     "name": "stdout",
     "output_type": "stream",
     "text": [
      "\n",
      "Array a is=\n",
      "\n",
      "[ 1.  2.  3.  4.  5.  6.  7.  8.  9. 10.]\n",
      "[0.         0.69314718 1.09861229 1.38629436 1.60943791 1.79175947\n",
      " 1.94591015 2.07944154 2.19722458 2.30258509]\n"
     ]
    },
    {
     "data": {
      "image/png": "[encoded data removed]",
      "text/plain": [
       "<Figure size 432x288 with 1 Axes>"
      ]
     },
     "metadata": {
      "needs_background": "light"
     },
     "output_type": "display_data"
    },
    {
     "name": "stdout",
     "output_type": "stream",
     "text": [
      "[0.         0.30103    0.47712125 0.60205999 0.69897    0.77815125\n",
      " 0.84509804 0.90308999 0.95424251 1.        ]\n"
     ]
    },
    {
     "data": {
      "image/png": "[encoded data removed]",
      "text/plain": [
       "<Figure size 432x288 with 1 Axes>"
      ]
     },
     "metadata": {
      "needs_background": "light"
     },
     "output_type": "display_data"
    }
   ],
   "source": [
    "import numpy as np\n",
    "import matplotlib.pyplot as plt  \n",
    "a=np.linspace(1,10,10)\n",
    "print(\"\\nArray a is=\\n\")\n",
    "print(a)\n",
    "b=np.log(a)\n",
    "print(b)\n",
    "plt.plot(a,b)\n",
    "plt.show()\n",
    "c=np.log10(a)\n",
    "print(c)\n",
    "plt.plot(a,c)\n",
    "plt.show()\n"
   ]
  },
  {
   "cell_type": "code",
   "execution_count": null,
   "id": "f849a7f7",
   "metadata": {},
   "outputs": [],
   "source": []
  }
 ],
 "metadata": {
  "kernelspec": {
   "display_name": "Python 3 (ipykernel)",
   "language": "python",
   "name": "python3"
  },
  "language_info": {
   "codemirror_mode": {
    "name": "ipython",
    "version": 3
   },
   "file_extension": ".py",
   "mimetype": "text/x-python",
   "name": "python",
   "nbconvert_exporter": "python",
   "pygments_lexer": "ipython3",
   "version": "3.9.12"
  }
 },
 "nbformat": 4,
 "nbformat_minor": 5
}
