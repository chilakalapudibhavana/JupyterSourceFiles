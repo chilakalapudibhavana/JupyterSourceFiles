{
 "cells": [
  {
   "cell_type": "code",
   "execution_count": 1,
   "id": "91c9e375",
   "metadata": {},
   "outputs": [
    {
     "name": "stdout",
     "output_type": "stream",
     "text": [
      "annayya\n"
     ]
    }
   ],
   "source": [
    "print(\"annayya\");\n"
   ]
  },
  {
   "cell_type": "code",
   "execution_count": 2,
   "id": "377f6a62",
   "metadata": {},
   "outputs": [
    {
     "data": {
      "text/plain": [
       "3.0"
      ]
     },
     "execution_count": 2,
     "metadata": {},
     "output_type": "execute_result"
    }
   ],
   "source": [
    "#division\n",
    "6/2"
   ]
  },
  {
   "cell_type": "code",
   "execution_count": 3,
   "id": "b03f78e5",
   "metadata": {},
   "outputs": [
    {
     "data": {
      "text/plain": [
       "3"
      ]
     },
     "execution_count": 3,
     "metadata": {},
     "output_type": "execute_result"
    }
   ],
   "source": [
    "#division\n",
    "6//2\n"
   ]
  },
  {
   "cell_type": "code",
   "execution_count": null,
   "id": "a868d914",
   "metadata": {},
   "outputs": [],
   "source": []
  }
 ],
 "metadata": {
  "kernelspec": {
   "display_name": "Python 3 (ipykernel)",
   "language": "python",
   "name": "python3"
  },
  "language_info": {
   "codemirror_mode": {
    "name": "ipython",
    "version": 3
   },
   "file_extension": ".py",
   "mimetype": "text/x-python",
   "name": "python",
   "nbconvert_exporter": "python",
   "pygments_lexer": "ipython3",
   "version": "3.9.7"
  }
 },
 "nbformat": 4,
 "nbformat_minor": 5
}
