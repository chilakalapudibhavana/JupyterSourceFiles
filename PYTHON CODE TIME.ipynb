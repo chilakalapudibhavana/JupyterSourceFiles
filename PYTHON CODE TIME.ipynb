{
 "cells": [
  {
   "cell_type": "markdown",
   "id": "e5ff5011",
   "metadata": {},
   "source": [
    "# PYTHON CODE TIME"
   ]
  },
  {
   "cell_type": "code",
   "execution_count": 16,
   "id": "d26251b3",
   "metadata": {},
   "outputs": [
    {
     "name": "stdout",
     "output_type": "stream",
     "text": [
      "28\n",
      "0.0010824203491210938\n"
     ]
    }
   ],
   "source": [
    "import time\n",
    "start=time.time()\n",
    "l=[1,2,3,4,5,6,7]\n",
    "c=0\n",
    "for i in l:\n",
    "    c=c+i\n",
    "print(c)\n",
    "end=time.time()\n",
    "elapsed_time=end-start\n",
    "print(elapsed_time)"
   ]
  },
  {
   "cell_type": "code",
   "execution_count": 5,
   "id": "7f3b1c78",
   "metadata": {},
   "outputs": [
    {
     "name": "stdout",
     "output_type": "stream",
     "text": [
      "28\n",
      "0.0013842582702636719\n"
     ]
    }
   ],
   "source": [
    "import time\n",
    "start=time.time()\n",
    "l=[1,2,3,4,5,6,7]\n",
    "print(sum(l))\n",
    "end=time.time()\n",
    "elapsed_time=end-start\n",
    "print(elapsed_time)"
   ]
  },
  {
   "cell_type": "code",
   "execution_count": 6,
   "id": "5d23ce6a",
   "metadata": {},
   "outputs": [],
   "source": [
    "def func_one(n):\n",
    "    return [str(num) for num in range(n)]\n",
    "def func_two(n):\n",
    "    return list(map(str,range(n)))"
   ]
  },
  {
   "cell_type": "code",
   "execution_count": 8,
   "id": "15a2f3cd",
   "metadata": {},
   "outputs": [],
   "source": [
    "import timeit\n"
   ]
  },
  {
   "cell_type": "code",
   "execution_count": 9,
   "id": "6fedc07c",
   "metadata": {},
   "outputs": [],
   "source": [
    "stmt='''\n",
    "func_one(100)\n",
    "'''\n",
    "setup='''\n",
    "def func_one(n):\n",
    "    return [str(num) for num in range(n)]\n",
    "'''"
   ]
  },
  {
   "cell_type": "code",
   "execution_count": 11,
   "id": "b8f18da8",
   "metadata": {},
   "outputs": [
    {
     "data": {
      "text/plain": [
       "1.4336081999999806"
      ]
     },
     "execution_count": 11,
     "metadata": {},
     "output_type": "execute_result"
    }
   ],
   "source": [
    "timeit.timeit(stmt,setup,number=100000)"
   ]
  },
  {
   "cell_type": "code",
   "execution_count": 12,
   "id": "93cece8b",
   "metadata": {},
   "outputs": [],
   "source": [
    "stmt='''\n",
    "func_two(100)\n",
    "'''\n",
    "setup='''\n",
    "def func_two(n):\n",
    "    return list(map(str,range(n)))\n",
    "'''"
   ]
  },
  {
   "cell_type": "code",
   "execution_count": 13,
   "id": "5f10f2ef",
   "metadata": {},
   "outputs": [
    {
     "data": {
      "text/plain": [
       "1.130480499999976"
      ]
     },
     "execution_count": 13,
     "metadata": {},
     "output_type": "execute_result"
    }
   ],
   "source": [
    "timeit.timeit(stmt,setup,number=100000)"
   ]
  },
  {
   "cell_type": "code",
   "execution_count": 14,
   "id": "41a85e8d",
   "metadata": {},
   "outputs": [
    {
     "name": "stdout",
     "output_type": "stream",
     "text": [
      "14.7 µs ± 855 ns per loop (mean ± std. dev. of 7 runs, 10,000 loops each)\n"
     ]
    }
   ],
   "source": [
    "%%timeit\n",
    "func_one(100)"
   ]
  },
  {
   "cell_type": "code",
   "execution_count": 15,
   "id": "915aedb8",
   "metadata": {},
   "outputs": [
    {
     "name": "stdout",
     "output_type": "stream",
     "text": [
      "11.8 µs ± 217 ns per loop (mean ± std. dev. of 7 runs, 100,000 loops each)\n"
     ]
    }
   ],
   "source": [
    "%%timeit\n",
    "func_two(100)"
   ]
  },
  {
   "cell_type": "code",
   "execution_count": null,
   "id": "4c0af0a3",
   "metadata": {},
   "outputs": [],
   "source": []
  }
 ],
 "metadata": {
  "kernelspec": {
   "display_name": "Python 3 (ipykernel)",
   "language": "python",
   "name": "python3"
  },
  "language_info": {
   "codemirror_mode": {
    "name": "ipython",
    "version": 3
   },
   "file_extension": ".py",
   "mimetype": "text/x-python",
   "name": "python",
   "nbconvert_exporter": "python",
   "pygments_lexer": "ipython3",
   "version": "3.9.12"
  }
 },
 "nbformat": 4,
 "nbformat_minor": 5
}
