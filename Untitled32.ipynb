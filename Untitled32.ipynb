{
 "cells": [
  {
   "cell_type": "code",
   "execution_count": 4,
   "id": "aa28ad99",
   "metadata": {},
   "outputs": [
    {
     "name": "stdout",
     "output_type": "stream",
     "text": [
      "3 1\n",
      "3 2 6\n",
      "2 3 4\n",
      "3 0 4\n"
     ]
    }
   ],
   "source": [
    "n,q=input().split()\n",
    "n=int(n)\n",
    "q=int(q)\n",
    "arr=list(map(int,input().split()))\n",
    "ind1=[]\n",
    "for i in range(n):\n",
    "    ind1.append(\"-1\")\n",
    "for _ in range(q):\n",
    "    l,r,x=input().split()\n",
    "    l=int(l)\n",
    "    r=int(r)\n",
    "    x=int(x)\n",
    "    for i in range(l-1,r):\n",
    "        if ind1[i]==\"-1\":\n",
    "            if arr[i]>x:\n",
    "                arr[i]=x\n",
    "                ind1[i]=0\n",
    "            elif x-arr[i]<3:\n",
    "                arr[i]=0\n",
    "arr1=[]\n",
    "for i in arr:\n",
    "    arr1.append(str(i))\n",
    "    \n",
    "print(\" \".join(arr1))"
   ]
  },
  {
   "cell_type": "code",
   "execution_count": null,
   "id": "ecd34055",
   "metadata": {},
   "outputs": [],
   "source": []
  }
 ],
 "metadata": {
  "kernelspec": {
   "display_name": "Python 3 (ipykernel)",
   "language": "python",
   "name": "python3"
  },
  "language_info": {
   "codemirror_mode": {
    "name": "ipython",
    "version": 3
   },
   "file_extension": ".py",
   "mimetype": "text/x-python",
   "name": "python",
   "nbconvert_exporter": "python",
   "pygments_lexer": "ipython3",
   "version": "3.9.12"
  }
 },
 "nbformat": 4,
 "nbformat_minor": 5
}
