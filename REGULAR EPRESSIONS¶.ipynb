{
 "cells": [
  {
   "cell_type": "markdown",
   "id": "11d576e1",
   "metadata": {},
   "source": [
    "# REGULAR EPRESSIONS"
   ]
  },
  {
   "cell_type": "code",
   "execution_count": 6,
   "id": "799c6bef",
   "metadata": {},
   "outputs": [],
   "source": [
    "text=\"babu waste fellow annayya vunnava ?\""
   ]
  },
  {
   "cell_type": "code",
   "execution_count": 7,
   "id": "f9e0c84d",
   "metadata": {},
   "outputs": [
    {
     "data": {
      "text/plain": [
       "True"
      ]
     },
     "execution_count": 7,
     "metadata": {},
     "output_type": "execute_result"
    }
   ],
   "source": [
    "\"annayya\" in text"
   ]
  },
  {
   "cell_type": "code",
   "execution_count": 8,
   "id": "da081a4d",
   "metadata": {},
   "outputs": [],
   "source": [
    "import re"
   ]
  },
  {
   "cell_type": "code",
   "execution_count": 9,
   "id": "22b76fbc",
   "metadata": {},
   "outputs": [],
   "source": [
    "pattern=\"annayya\""
   ]
  },
  {
   "cell_type": "code",
   "execution_count": 12,
   "id": "efc50c9d",
   "metadata": {},
   "outputs": [
    {
     "data": {
      "text/plain": [
       "<re.Match object; span=(18, 25), match='annayya'>"
      ]
     },
     "execution_count": 12,
     "metadata": {},
     "output_type": "execute_result"
    }
   ],
   "source": [
    "re.search(pattern,text)"
   ]
  },
  {
   "cell_type": "code",
   "execution_count": 13,
   "id": "d1428ae2",
   "metadata": {},
   "outputs": [],
   "source": [
    "m=re.search(pattern,text)"
   ]
  },
  {
   "cell_type": "code",
   "execution_count": 14,
   "id": "64bdd2eb",
   "metadata": {},
   "outputs": [
    {
     "data": {
      "text/plain": [
       "(18, 25)"
      ]
     },
     "execution_count": 14,
     "metadata": {},
     "output_type": "execute_result"
    }
   ],
   "source": [
    "m.span()"
   ]
  },
  {
   "cell_type": "code",
   "execution_count": 15,
   "id": "fa71c1d3",
   "metadata": {},
   "outputs": [
    {
     "data": {
      "text/plain": [
       "18"
      ]
     },
     "execution_count": 15,
     "metadata": {},
     "output_type": "execute_result"
    }
   ],
   "source": [
    "m.start()"
   ]
  },
  {
   "cell_type": "code",
   "execution_count": 16,
   "id": "693f21ab",
   "metadata": {},
   "outputs": [
    {
     "data": {
      "text/plain": [
       "25"
      ]
     },
     "execution_count": 16,
     "metadata": {},
     "output_type": "execute_result"
    }
   ],
   "source": [
    "m.end()"
   ]
  },
  {
   "cell_type": "code",
   "execution_count": 17,
   "id": "74588891",
   "metadata": {},
   "outputs": [],
   "source": [
    "re.search(\"chelli\",text)"
   ]
  },
  {
   "cell_type": "code",
   "execution_count": 18,
   "id": "faf483b5",
   "metadata": {},
   "outputs": [],
   "source": [
    "text=\"babu waste fellow annayya vunnava!!! ,orey annayya \""
   ]
  },
  {
   "cell_type": "code",
   "execution_count": 19,
   "id": "2143359d",
   "metadata": {},
   "outputs": [
    {
     "data": {
      "text/plain": [
       "<re.Match object; span=(18, 25), match='annayya'>"
      ]
     },
     "execution_count": 19,
     "metadata": {},
     "output_type": "execute_result"
    }
   ],
   "source": [
    "re.search(pattern,text)"
   ]
  },
  {
   "cell_type": "code",
   "execution_count": 20,
   "id": "5e6c3b3f",
   "metadata": {},
   "outputs": [],
   "source": [
    "matches=re.findall(pattern,text)"
   ]
  },
  {
   "cell_type": "code",
   "execution_count": 21,
   "id": "d49310d3",
   "metadata": {},
   "outputs": [
    {
     "data": {
      "text/plain": [
       "['annayya', 'annayya']"
      ]
     },
     "execution_count": 21,
     "metadata": {},
     "output_type": "execute_result"
    }
   ],
   "source": [
    "matches"
   ]
  },
  {
   "cell_type": "code",
   "execution_count": 22,
   "id": "69fc8138",
   "metadata": {},
   "outputs": [
    {
     "data": {
      "text/plain": [
       "2"
      ]
     },
     "execution_count": 22,
     "metadata": {},
     "output_type": "execute_result"
    }
   ],
   "source": [
    "len(matches)"
   ]
  },
  {
   "cell_type": "code",
   "execution_count": 26,
   "id": "00657fa1",
   "metadata": {},
   "outputs": [
    {
     "name": "stdout",
     "output_type": "stream",
     "text": [
      "<re.Match object; span=(18, 25), match='annayya'>\n",
      "annayya\n",
      "(18, 25)\n",
      "<re.Match object; span=(43, 50), match='annayya'>\n",
      "annayya\n",
      "(43, 50)\n"
     ]
    }
   ],
   "source": [
    "for m in re.finditer('annayya',text):\n",
    "    print(m)\n",
    "    print(m.group())\n",
    "    print(m.span())"
   ]
  },
  {
   "cell_type": "raw",
   "id": "09f4b35e",
   "metadata": {},
   "source": [
    "Charcter          Description               Example"
   ]
  },
  {
   "cell_type": "raw",
   "id": "d36972eb",
   "metadata": {},
   "source": [
    "\\d                 digit                    73\n",
    "\\w                 Alphanumeric             A-b_3\n",
    "\\s                 White space               \n",
    "\\D                 A non digit              ABC\n",
    "\\W                 Non-alphanumeric         *-+=)\n",
    "\\s                 Non-whitespace           Yoyo"
   ]
  },
  {
   "cell_type": "code",
   "execution_count": 29,
   "id": "fd1ad1ae",
   "metadata": {},
   "outputs": [],
   "source": [
    "text='My ph no: 123-456-789'\n",
    "phone=re.search(r'\\d\\d\\d-\\d\\d\\d-\\d\\d\\d',text)"
   ]
  },
  {
   "cell_type": "code",
   "execution_count": 30,
   "id": "01bfed73",
   "metadata": {},
   "outputs": [
    {
     "data": {
      "text/plain": [
       "<re.Match object; span=(10, 21), match='123-456-789'>"
      ]
     },
     "execution_count": 30,
     "metadata": {},
     "output_type": "execute_result"
    }
   ],
   "source": [
    "phone"
   ]
  },
  {
   "cell_type": "code",
   "execution_count": 31,
   "id": "d6a16eb3",
   "metadata": {},
   "outputs": [
    {
     "data": {
      "text/plain": [
       "'123-456-789'"
      ]
     },
     "execution_count": 31,
     "metadata": {},
     "output_type": "execute_result"
    }
   ],
   "source": [
    "phone.group()"
   ]
  },
  {
   "cell_type": "raw",
   "id": "a6176f6e",
   "metadata": {},
   "source": [
    "Charcter      Description                  Example"
   ]
  },
  {
   "cell_type": "raw",
   "id": "5edffe6f",
   "metadata": {},
   "source": [
    "+             Occurs one or more times     \\w+\n",
    "{3}           Occurs exactly 3 times       \\D{3}\n",
    "{2,4}         Occurs 2 to 4 times          \\D{2,4}\n",
    "{3,}          Occurs 3 or more             \\D{3,}\n",
    " *            Occurs zero or more times    \\D*\n",
    " ?            Once or none                 \\D?"
   ]
  },
  {
   "cell_type": "code",
   "execution_count": 32,
   "id": "e6916f21",
   "metadata": {},
   "outputs": [
    {
     "data": {
      "text/plain": [
       "<re.Match object; span=(10, 21), match='123-456-789'>"
      ]
     },
     "execution_count": 32,
     "metadata": {},
     "output_type": "execute_result"
    }
   ],
   "source": [
    "text='My ph no: 123-456-789'\n",
    "phone=re.search(r'\\d{3}-\\d{3}-\\d{3}',text)\n",
    "phone"
   ]
  },
  {
   "cell_type": "code",
   "execution_count": 34,
   "id": "5d3a24cc",
   "metadata": {},
   "outputs": [],
   "source": [
    "phone_pattern=re.compile('(\\d{3})-(\\d{3})-(\\d{3})')\n",
    "results=re.search(phone_pattern,text)\n"
   ]
  },
  {
   "cell_type": "code",
   "execution_count": 35,
   "id": "08b62f08",
   "metadata": {},
   "outputs": [
    {
     "data": {
      "text/plain": [
       "<re.Match object; span=(10, 21), match='123-456-789'>"
      ]
     },
     "execution_count": 35,
     "metadata": {},
     "output_type": "execute_result"
    }
   ],
   "source": [
    "results"
   ]
  },
  {
   "cell_type": "code",
   "execution_count": 36,
   "id": "7da107e2",
   "metadata": {},
   "outputs": [
    {
     "data": {
      "text/plain": [
       "'123-456-789'"
      ]
     },
     "execution_count": 36,
     "metadata": {},
     "output_type": "execute_result"
    }
   ],
   "source": [
    "results.group()"
   ]
  },
  {
   "cell_type": "code",
   "execution_count": 37,
   "id": "883b4a3e",
   "metadata": {},
   "outputs": [
    {
     "data": {
      "text/plain": [
       "'123'"
      ]
     },
     "execution_count": 37,
     "metadata": {},
     "output_type": "execute_result"
    }
   ],
   "source": [
    "results.group(1)"
   ]
  },
  {
   "cell_type": "code",
   "execution_count": 38,
   "id": "8b66fe12",
   "metadata": {},
   "outputs": [
    {
     "data": {
      "text/plain": [
       "'456'"
      ]
     },
     "execution_count": 38,
     "metadata": {},
     "output_type": "execute_result"
    }
   ],
   "source": [
    "results.group(2)"
   ]
  },
  {
   "cell_type": "code",
   "execution_count": 39,
   "id": "081619f3",
   "metadata": {},
   "outputs": [
    {
     "data": {
      "text/plain": [
       "'789'"
      ]
     },
     "execution_count": 39,
     "metadata": {},
     "output_type": "execute_result"
    }
   ],
   "source": [
    "results.group(3)"
   ]
  },
  {
   "cell_type": "code",
   "execution_count": 40,
   "id": "5c04b722",
   "metadata": {},
   "outputs": [
    {
     "ename": "IndexError",
     "evalue": "no such group",
     "output_type": "error",
     "traceback": [
      "\u001b[1;31m---------------------------------------------------------------------------\u001b[0m",
      "\u001b[1;31mIndexError\u001b[0m                                Traceback (most recent call last)",
      "Input \u001b[1;32mIn [40]\u001b[0m, in \u001b[0;36m<cell line: 1>\u001b[1;34m()\u001b[0m\n\u001b[1;32m----> 1\u001b[0m \u001b[43mresults\u001b[49m\u001b[38;5;241;43m.\u001b[39;49m\u001b[43mgroup\u001b[49m\u001b[43m(\u001b[49m\u001b[38;5;241;43m4\u001b[39;49m\u001b[43m)\u001b[49m\n",
      "\u001b[1;31mIndexError\u001b[0m: no such group"
     ]
    }
   ],
   "source": [
    "results.group(4)"
   ]
  },
  {
   "cell_type": "markdown",
   "id": "b5f34b60",
   "metadata": {},
   "source": [
    "# Additional Regex Syntax"
   ]
  },
  {
   "cell_type": "code",
   "execution_count": 44,
   "id": "136a9c0a",
   "metadata": {},
   "outputs": [
    {
     "data": {
      "text/plain": [
       "<re.Match object; span=(11, 14), match='cha'>"
      ]
     },
     "execution_count": 44,
     "metadata": {},
     "output_type": "execute_result"
    }
   ],
   "source": [
    "re.search(r'cha|bro','sahodharan cha bro anna')"
   ]
  },
  {
   "cell_type": "code",
   "execution_count": 45,
   "id": "13e5181b",
   "metadata": {},
   "outputs": [
    {
     "data": {
      "text/plain": [
       "['cha', 'bro']"
      ]
     },
     "execution_count": 45,
     "metadata": {},
     "output_type": "execute_result"
    }
   ],
   "source": [
    "re.findall(r'cha|bro','sahodharan cha bro anna')"
   ]
  },
  {
   "cell_type": "code",
   "execution_count": 46,
   "id": "d35c1cd8",
   "metadata": {},
   "outputs": [
    {
     "data": {
      "text/plain": [
       "['anna', 'anna', 'anna']"
      ]
     },
     "execution_count": 46,
     "metadata": {},
     "output_type": "execute_result"
    }
   ],
   "source": [
    "re.findall('anna',' wanna c my kanna and anna at same place ')"
   ]
  },
  {
   "cell_type": "code",
   "execution_count": 47,
   "id": "4a77a0ce",
   "metadata": {},
   "outputs": [
    {
     "data": {
      "text/plain": [
       "['wanna', 'kanna', ' anna']"
      ]
     },
     "execution_count": 47,
     "metadata": {},
     "output_type": "execute_result"
    }
   ],
   "source": [
    "re.findall('.anna',' wanna c my kanna and anna at same place ')"
   ]
  },
  {
   "cell_type": "code",
   "execution_count": 49,
   "id": "1c824f61",
   "metadata": {},
   "outputs": [
    {
     "data": {
      "text/plain": [
       "[' wanna', ' kanna', 'd anna']"
      ]
     },
     "execution_count": 49,
     "metadata": {},
     "output_type": "execute_result"
    }
   ],
   "source": [
    "re.findall('..anna',' wanna c my kanna and anna at same place ')"
   ]
  },
  {
   "cell_type": "code",
   "execution_count": 50,
   "id": "b3abb617",
   "metadata": {},
   "outputs": [
    {
     "data": {
      "text/plain": [
       "[' ', ' ', ' ', ' ', ' ', ' ', ' ', ' ', ' ', ' ']"
      ]
     },
     "execution_count": 50,
     "metadata": {},
     "output_type": "execute_result"
    }
   ],
   "source": [
    "re.findall('\\s',' wanna c my kanna and anna at same place ')"
   ]
  },
  {
   "cell_type": "code",
   "execution_count": null,
   "id": "d371329a",
   "metadata": {},
   "outputs": [],
   "source": []
  }
 ],
 "metadata": {
  "kernelspec": {
   "display_name": "Python 3 (ipykernel)",
   "language": "python",
   "name": "python3"
  },
  "language_info": {
   "codemirror_mode": {
    "name": "ipython",
    "version": 3
   },
   "file_extension": ".py",
   "mimetype": "text/x-python",
   "name": "python",
   "nbconvert_exporter": "python",
   "pygments_lexer": "ipython3",
   "version": "3.9.12"
  }
 },
 "nbformat": 4,
 "nbformat_minor": 5
}
