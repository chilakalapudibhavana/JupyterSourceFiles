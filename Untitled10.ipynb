{
 "cells": [
  {
   "cell_type": "code",
   "execution_count": 1,
   "id": "5e7892b6",
   "metadata": {},
   "outputs": [
    {
     "name": "stdout",
     "output_type": "stream",
     "text": [
      "147"
     ]
    }
   ],
   "source": [
    "for i in  range(1,10,3):\n",
    "    print(i,end='')"
   ]
  },
  {
   "cell_type": "code",
   "execution_count": 2,
   "id": "ab7ad5bd",
   "metadata": {},
   "outputs": [
    {
     "name": "stdout",
     "output_type": "stream",
     "text": [
      "A 1B 1C 1D 1"
     ]
    }
   ],
   "source": [
    "for i in range (1,2):\n",
    "    for j in \"ABCD\":\n",
    "        print(j,i,end='')"
   ]
  },
  {
   "cell_type": "code",
   "execution_count": 3,
   "id": "26c95b31",
   "metadata": {},
   "outputs": [
    {
     "name": "stdout",
     "output_type": "stream",
     "text": [
      "1 A1 B1 C1 D"
     ]
    }
   ],
   "source": [
    "for i in range (1,2):\n",
    "    for j in \"ABCD\":\n",
    "        print(i,j,end='')"
   ]
  },
  {
   "cell_type": "code",
   "execution_count": 4,
   "id": "11bd4741",
   "metadata": {},
   "outputs": [
    {
     "name": "stdout",
     "output_type": "stream",
     "text": [
      "xnxxlxyxtxxcxsx"
     ]
    }
   ],
   "source": [
    "for i in \"analytics\":\n",
    "    if (i==\"a\")or(i==\"i\"):\n",
    "        print(\"x\",end='')\n",
    "    else:\n",
    "        print(i,end='x')"
   ]
  },
  {
   "cell_type": "code",
   "execution_count": 5,
   "id": "4caf06cd",
   "metadata": {},
   "outputs": [
    {
     "name": "stdout",
     "output_type": "stream",
     "text": [
      "109"
     ]
    }
   ],
   "source": [
    "n=10\n",
    "while n>5:\n",
    "    print(n,end='')\n",
    "    n=n-1\n",
    "    if n==8:\n",
    "        n=2"
   ]
  },
  {
   "cell_type": "code",
   "execution_count": 6,
   "id": "cd494159",
   "metadata": {},
   "outputs": [
    {
     "name": "stdout",
     "output_type": "stream",
     "text": [
      "013456789"
     ]
    }
   ],
   "source": [
    "n=1\n",
    "for n in range(10):\n",
    "    if n==2:\n",
    "        continue\n",
    "    print(n,end='')"
   ]
  },
  {
   "cell_type": "code",
   "execution_count": 7,
   "id": "4830c7a9",
   "metadata": {},
   "outputs": [
    {
     "name": "stdout",
     "output_type": "stream",
     "text": [
      "975"
     ]
    }
   ],
   "source": [
    "n=10\n",
    "while n>3:\n",
    "    if n%2==0:\n",
    "        n=n-1\n",
    "        continue\n",
    "    else:\n",
    "        print(n,end='')\n",
    "        n=n-1"
   ]
  },
  {
   "cell_type": "code",
   "execution_count": 8,
   "id": "d84899f0",
   "metadata": {},
   "outputs": [
    {
     "data": {
      "text/plain": [
       "True"
      ]
     },
     "execution_count": 8,
     "metadata": {},
     "output_type": "execute_result"
    }
   ],
   "source": [
    "\"analytics\".isalpha()"
   ]
  },
  {
   "cell_type": "code",
   "execution_count": 9,
   "id": "2504d05b",
   "metadata": {},
   "outputs": [
    {
     "data": {
      "text/plain": [
       "True"
      ]
     },
     "execution_count": 9,
     "metadata": {},
     "output_type": "execute_result"
    }
   ],
   "source": [
    "\"analytics\".isalnum()\n"
   ]
  },
  {
   "cell_type": "code",
   "execution_count": 10,
   "id": "648f6ddc",
   "metadata": {},
   "outputs": [
    {
     "data": {
      "text/plain": [
       "True"
      ]
     },
     "execution_count": 10,
     "metadata": {},
     "output_type": "execute_result"
    }
   ],
   "source": [
    "\"analytics01\".islower()"
   ]
  },
  {
   "cell_type": "code",
   "execution_count": 11,
   "id": "6cfd37c8",
   "metadata": {},
   "outputs": [
    {
     "data": {
      "text/plain": [
       "[1, 1, 0, 0, 2]"
      ]
     },
     "execution_count": 11,
     "metadata": {},
     "output_type": "execute_result"
    }
   ],
   "source": [
    "m=['lakshay','sanad','aravind','aishwarya','prateek']\n",
    "n=[]\n",
    "for i in m:\n",
    "    x=i.find('a')\n",
    "    n.append(x)\n",
    "n"
   ]
  },
  {
   "cell_type": "code",
   "execution_count": 12,
   "id": "9356afaf",
   "metadata": {},
   "outputs": [
    {
     "ename": "NameError",
     "evalue": "name 'state' is not defined",
     "output_type": "error",
     "traceback": [
      "\u001b[1;31m---------------------------------------------------------------------------\u001b[0m",
      "\u001b[1;31mNameError\u001b[0m                                 Traceback (most recent call last)",
      "Input \u001b[1;32mIn [12]\u001b[0m, in \u001b[0;36m<cell line: 3>\u001b[1;34m()\u001b[0m\n\u001b[0;32m      1\u001b[0m m\u001b[38;5;241m=\u001b[39m[\u001b[38;5;124m'\u001b[39m\u001b[38;5;124mharyana\u001b[39m\u001b[38;5;124m'\u001b[39m,\u001b[38;5;124m'\u001b[39m\u001b[38;5;124mpunjab\u001b[39m\u001b[38;5;124m'\u001b[39m,\u001b[38;5;124m'\u001b[39m\u001b[38;5;124mrajasthan\u001b[39m\u001b[38;5;124m'\u001b[39m,\u001b[38;5;124m'\u001b[39m\u001b[38;5;124mkarnataka\u001b[39m\u001b[38;5;124m'\u001b[39m,\u001b[38;5;124m'\u001b[39m\u001b[38;5;124mgoa\u001b[39m\u001b[38;5;124m'\u001b[39m]\n\u001b[0;32m      2\u001b[0m o\u001b[38;5;241m=\u001b[39m[]\n\u001b[1;32m----> 3\u001b[0m \u001b[38;5;28;01mfor\u001b[39;00m s \u001b[38;5;129;01min\u001b[39;00m \u001b[43mstate\u001b[49m:\n\u001b[0;32m      4\u001b[0m     ss\u001b[38;5;241m=\u001b[39ms\u001b[38;5;241m.\u001b[39msplit(\u001b[38;5;124m'\u001b[39m\u001b[38;5;124ma\u001b[39m\u001b[38;5;124m'\u001b[39m)\n\u001b[0;32m      5\u001b[0m     output\u001b[38;5;241m.\u001b[39mappend(\u001b[38;5;28mlen\u001b[39m(ss))\n",
      "\u001b[1;31mNameError\u001b[0m: name 'state' is not defined"
     ]
    }
   ],
   "source": [
    "m=['haryana','punjab','rajasthan','karnataka','goa']\n",
    "o=[]\n",
    "for s in state:\n",
    "    ss=s.split('a')\n",
    "    output.append(len(ss))\n",
    "output"
   ]
  },
  {
   "cell_type": "code",
   "execution_count": 13,
   "id": "815fa6eb",
   "metadata": {},
   "outputs": [
    {
     "ename": "NameError",
     "evalue": "name 'output' is not defined",
     "output_type": "error",
     "traceback": [
      "\u001b[1;31m---------------------------------------------------------------------------\u001b[0m",
      "\u001b[1;31mNameError\u001b[0m                                 Traceback (most recent call last)",
      "Input \u001b[1;32mIn [13]\u001b[0m, in \u001b[0;36m<cell line: 3>\u001b[1;34m()\u001b[0m\n\u001b[0;32m      3\u001b[0m \u001b[38;5;28;01mfor\u001b[39;00m s \u001b[38;5;129;01min\u001b[39;00m m:\n\u001b[0;32m      4\u001b[0m     ss\u001b[38;5;241m=\u001b[39ms\u001b[38;5;241m.\u001b[39msplit(\u001b[38;5;124m'\u001b[39m\u001b[38;5;124ma\u001b[39m\u001b[38;5;124m'\u001b[39m)\n\u001b[1;32m----> 5\u001b[0m     \u001b[43moutput\u001b[49m\u001b[38;5;241m.\u001b[39mappend(\u001b[38;5;28mlen\u001b[39m(ss))\n\u001b[0;32m      6\u001b[0m output\n",
      "\u001b[1;31mNameError\u001b[0m: name 'output' is not defined"
     ]
    }
   ],
   "source": [
    "m=['haryana','punjab','rajasthan','karnataka','goa']\n",
    "o=[]\n",
    "for s in m:\n",
    "    ss=s.split('a')\n",
    "    output.append(len(ss))\n",
    "output"
   ]
  },
  {
   "cell_type": "code",
   "execution_count": 14,
   "id": "92c431d9",
   "metadata": {},
   "outputs": [
    {
     "ename": "NameError",
     "evalue": "name 'state' is not defined",
     "output_type": "error",
     "traceback": [
      "\u001b[1;31m---------------------------------------------------------------------------\u001b[0m",
      "\u001b[1;31mNameError\u001b[0m                                 Traceback (most recent call last)",
      "Input \u001b[1;32mIn [14]\u001b[0m, in \u001b[0;36m<cell line: 3>\u001b[1;34m()\u001b[0m\n\u001b[0;32m      1\u001b[0m m\u001b[38;5;241m=\u001b[39m[\u001b[38;5;124m'\u001b[39m\u001b[38;5;124mharyana\u001b[39m\u001b[38;5;124m'\u001b[39m,\u001b[38;5;124m'\u001b[39m\u001b[38;5;124mpunjab\u001b[39m\u001b[38;5;124m'\u001b[39m,\u001b[38;5;124m'\u001b[39m\u001b[38;5;124mrajasthan\u001b[39m\u001b[38;5;124m'\u001b[39m,\u001b[38;5;124m'\u001b[39m\u001b[38;5;124mkarnataka\u001b[39m\u001b[38;5;124m'\u001b[39m,\u001b[38;5;124m'\u001b[39m\u001b[38;5;124mgoa\u001b[39m\u001b[38;5;124m'\u001b[39m]\n\u001b[0;32m      2\u001b[0m output\u001b[38;5;241m=\u001b[39m[]\n\u001b[1;32m----> 3\u001b[0m \u001b[38;5;28;01mfor\u001b[39;00m s \u001b[38;5;129;01min\u001b[39;00m \u001b[43mstate\u001b[49m:\n\u001b[0;32m      4\u001b[0m     ss\u001b[38;5;241m=\u001b[39ms\u001b[38;5;241m.\u001b[39msplit(\u001b[38;5;124m'\u001b[39m\u001b[38;5;124ma\u001b[39m\u001b[38;5;124m'\u001b[39m)\n\u001b[0;32m      5\u001b[0m     output\u001b[38;5;241m.\u001b[39mappend(\u001b[38;5;28mlen\u001b[39m(ss))\n",
      "\u001b[1;31mNameError\u001b[0m: name 'state' is not defined"
     ]
    }
   ],
   "source": [
    "m=['haryana','punjab','rajasthan','karnataka','goa']\n",
    "output=[]\n",
    "for s in state:\n",
    "    ss=s.split('a')\n",
    "    output.append(len(ss))\n",
    "output"
   ]
  },
  {
   "cell_type": "code",
   "execution_count": 15,
   "id": "6ca3a8ec",
   "metadata": {},
   "outputs": [
    {
     "data": {
      "text/plain": [
       "[4, 2, 4, 5, 2]"
      ]
     },
     "execution_count": 15,
     "metadata": {},
     "output_type": "execute_result"
    }
   ],
   "source": [
    "m=['haryana','punjab','rajasthan','karnataka','goa']\n",
    "o=[]\n",
    "for s in m:\n",
    "    ss=s.split('a')\n",
    "    o.append(len(ss))\n",
    "o"
   ]
  },
  {
   "cell_type": "code",
   "execution_count": null,
   "id": "9394da09",
   "metadata": {},
   "outputs": [],
   "source": []
  }
 ],
 "metadata": {
  "kernelspec": {
   "display_name": "Python 3 (ipykernel)",
   "language": "python",
   "name": "python3"
  },
  "language_info": {
   "codemirror_mode": {
    "name": "ipython",
    "version": 3
   },
   "file_extension": ".py",
   "mimetype": "text/x-python",
   "name": "python",
   "nbconvert_exporter": "python",
   "pygments_lexer": "ipython3",
   "version": "3.9.12"
  }
 },
 "nbformat": 4,
 "nbformat_minor": 5
}
