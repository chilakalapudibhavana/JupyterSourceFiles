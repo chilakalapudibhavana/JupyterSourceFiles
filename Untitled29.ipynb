{
 "cells": [
  {
   "cell_type": "code",
   "execution_count": 7,
   "id": "d48e2711",
   "metadata": {},
   "outputs": [
    {
     "name": "stdout",
     "output_type": "stream",
     "text": [
      "5\n",
      "10 7 3 8 2\n"
     ]
    }
   ],
   "source": [
    "n=int(input())\n",
    "s=list(map(int,input().split()))\n",
    "s.sort()\n",
    "s=s[::-1]\n",
    "k=1\n",
    "i=0\n",
    "ind=0\n",
    "for i in range(0,n//2+2):\n",
    "        j=i+1\n",
    "        if sum(s[0:j])==sum(s[j:n]):\n",
    "            print(\"YES\")\n",
    "            k=0\n",
    "            break   \n",
    "if i==n//2+1:\n",
    "    while(ind!=n and k!=0):\n",
    "        l=s[0]\n",
    "        s.remove(l)\n",
    "        s.append(l)\n",
    "        ind=ind+1\n",
    "        for i in range(0,n//2+2):\n",
    "                j=i+1\n",
    "                if sum(s[0:j])==sum(s[j:k])==sum(s[k:n])==sum(s)/3:\n",
    "                    print(\"YES\")\n",
    "                    k=0\n",
    "                    break\n"
   ]
  },
  {
   "cell_type": "code",
   "execution_count": null,
   "id": "0fb3fcbd",
   "metadata": {},
   "outputs": [],
   "source": [
    "n=int(input())\n",
    "s=list(map(int,input().split()))\n",
    "t=int(input())\n",
    "s.sort()\n",
    "k=1\n",
    "i=0\n",
    "ind=0\n",
    "\n",
    "for i in range(0,n-3):\n",
    "        x=[]\n",
    "        print(s)\n",
    "        x.extend(s[0:i])\n",
    "        print(x)\n",
    "        x.extend(s[i+3:n])\n",
    "        print(x)\n",
    "        if t-sum(s[i:i+3]) in x:\n",
    "            print(\"YES\")\n",
    "            k=0\n",
    "            break\n",
    "            \n",
    "if i==n-3:\n",
    "    while(ind!=n and k!=0):\n",
    "        l=s[0]\n",
    "        s.remove(l)\n",
    "        s.append(l)\n",
    "        ind=ind+1\n",
    "        for i in range(0,n-3):\n",
    "            x=s[0:i]+s[i+3:n]\n",
    "            if t-sum(s[i:i+3]) in x:\n",
    "                print(\"YES\")\n",
    "                k=0\n",
    "if ind==n:\n",
    "    print(\"NO\")"
   ]
  },
  {
   "cell_type": "code",
   "execution_count": 20,
   "id": "4b073876",
   "metadata": {},
   "outputs": [
    {
     "name": "stdout",
     "output_type": "stream",
     "text": [
      "4\n",
      "1 2 3 4 5\n",
      "10\n",
      "YES\n"
     ]
    }
   ],
   "source": [
    "n=int(input())\n",
    "s=list(map(int,input().split()))\n",
    "t=int(input())\n",
    "s.sort()\n",
    "k=1\n",
    "i=0\n",
    "ind=0\n",
    "\n",
    "for i in range(0,n-3):\n",
    "        x=[]\n",
    "        x.extend(s[0:i])\n",
    "        x.extend(s[i+3:n])\n",
    "        if t-sum(s[i:i+3]) in x:\n",
    "            print(\"YES\")\n",
    "            k=0\n",
    "            break\n",
    "            \n",
    "if i==n-3:\n",
    "    while(ind!=n and k!=0):\n",
    "        l=s[0]\n",
    "        s.remove(l)\n",
    "        s.append(l)\n",
    "        ind=ind+1\n",
    "        for i in range(0,n-3):\n",
    "            x=[]\n",
    "            x.extend(s[0:i])\n",
    "            x.extend(s[i+3:n])\n",
    "            if t-sum(s[i:i+3]) in x:\n",
    "                print(\"YES\")\n",
    "                k=0\n",
    "if ind==n:\n",
    "    print(\"NO\")"
   ]
  },
  {
   "cell_type": "code",
   "execution_count": null,
   "id": "36136b5a",
   "metadata": {},
   "outputs": [],
   "source": []
  }
 ],
 "metadata": {
  "kernelspec": {
   "display_name": "Python 3 (ipykernel)",
   "language": "python",
   "name": "python3"
  },
  "language_info": {
   "codemirror_mode": {
    "name": "ipython",
    "version": 3
   },
   "file_extension": ".py",
   "mimetype": "text/x-python",
   "name": "python",
   "nbconvert_exporter": "python",
   "pygments_lexer": "ipython3",
   "version": "3.9.12"
  }
 },
 "nbformat": 4,
 "nbformat_minor": 5
}
