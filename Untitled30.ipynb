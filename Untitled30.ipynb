{
 "cells": [
  {
   "cell_type": "code",
   "execution_count": 25,
   "id": "0a918b61",
   "metadata": {},
   "outputs": [
    {
     "name": "stdout",
     "output_type": "stream",
     "text": [
      "4 \n",
      "1 2 3 4\n",
      "['22', '23', '24', '33', '34', '44']\n"
     ]
    }
   ],
   "source": [
    "n=int(input())\n",
    "a=list(map(str,input().split(\" \")))\n",
    "l1=\"\"\n",
    "l2=a.copy()\n",
    "l3=[]\n",
    "for i in range(0,n):\n",
    "    a.remove(a[0])\n",
    "    for j in a:\n",
    "        l1=a[0]+str(j)\n",
    "        l3.append(l1)\n",
    "       \n",
    "        \n",
    "print(l3)"
   ]
  },
  {
   "cell_type": "code",
   "execution_count": null,
   "id": "6c4f647c",
   "metadata": {},
   "outputs": [],
   "source": []
  },
  {
   "cell_type": "code",
   "execution_count": 34,
   "id": "9aedba93",
   "metadata": {},
   "outputs": [
    {
     "name": "stdout",
     "output_type": "stream",
     "text": [
      "9969\n",
      "9999\n"
     ]
    }
   ],
   "source": [
    "n=str(input())\n",
    "l=list(str(n))\n",
    "l[l.index(\"6\")]=\"9\"\n",
    "x=\"\".join(l)\n",
    "print(int(x))"
   ]
  },
  {
   "cell_type": "code",
   "execution_count": null,
   "id": "c657ab4f",
   "metadata": {},
   "outputs": [],
   "source": [
    "n=int(input())\n",
    "a=list(map(str,input().split(\" \")))\n",
    "l=[]\n",
    "print(a)"
   ]
  },
  {
   "cell_type": "code",
   "execution_count": null,
   "id": "0f1461ad",
   "metadata": {},
   "outputs": [],
   "source": []
  }
 ],
 "metadata": {
  "kernelspec": {
   "display_name": "Python 3 (ipykernel)",
   "language": "python",
   "name": "python3"
  },
  "language_info": {
   "codemirror_mode": {
    "name": "ipython",
    "version": 3
   },
   "file_extension": ".py",
   "mimetype": "text/x-python",
   "name": "python",
   "nbconvert_exporter": "python",
   "pygments_lexer": "ipython3",
   "version": "3.9.12"
  }
 },
 "nbformat": 4,
 "nbformat_minor": 5
}
