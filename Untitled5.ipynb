{
 "cells": [
  {
   "cell_type": "code",
   "execution_count": 4,
   "id": "f2cfcfa9",
   "metadata": {},
   "outputs": [],
   "source": [
    "r=6/666"
   ]
  },
  {
   "cell_type": "code",
   "execution_count": 6,
   "id": "316edb6a",
   "metadata": {},
   "outputs": [
    {
     "name": "stdout",
     "output_type": "stream",
     "text": [
      "result 0.009009009009009009 is\n"
     ]
    }
   ],
   "source": [
    "print('result {0} is'.format(r))"
   ]
  },
  {
   "cell_type": "code",
   "execution_count": null,
   "id": "a11dd2c6",
   "metadata": {},
   "outputs": [],
   "source": []
  },
  {
   "cell_type": "code",
   "execution_count": 16,
   "id": "adcee64a",
   "metadata": {},
   "outputs": [
    {
     "name": "stdout",
     "output_type": "stream",
     "text": [
      "bro loves sis\n"
     ]
    }
   ],
   "source": [
    "print('{c} {b} {a}'.format(a='sis',b='loves',c='bro'))"
   ]
  },
  {
   "cell_type": "code",
   "execution_count": 18,
   "id": "dbb79fff",
   "metadata": {},
   "outputs": [
    {
     "ename": "SyntaxError",
     "evalue": "invalid syntax (Temp/ipykernel_21364/1379463042.py, line 1)",
     "output_type": "error",
     "traceback": [
      "\u001b[1;36m  File \u001b[1;32m\"C:\\Users\\CH7474~1.BHA\\AppData\\Local\\Temp/ipykernel_21364/1379463042.py\"\u001b[1;36m, line \u001b[1;32m1\u001b[0m\n\u001b[1;33m    print('result is {}'.format(r:1.2f))\u001b[0m\n\u001b[1;37m                                 ^\u001b[0m\n\u001b[1;31mSyntaxError\u001b[0m\u001b[1;31m:\u001b[0m invalid syntax\n"
     ]
    }
   ],
   "source": [
    "print('result is {}'.format(r:1.2f))"
   ]
  },
  {
   "cell_type": "code",
   "execution_count": 19,
   "id": "78acc6ff",
   "metadata": {},
   "outputs": [],
   "source": [
    "r=6/666"
   ]
  },
  {
   "cell_type": "code",
   "execution_count": 28,
   "id": "e359bafd",
   "metadata": {},
   "outputs": [
    {
     "name": "stdout",
     "output_type": "stream",
     "text": [
      "result is 0.009\n"
     ]
    }
   ],
   "source": [
    "print('result is {r:10.3f}'.format(r=7/777))"
   ]
  },
  {
   "cell_type": "code",
   "execution_count": 29,
   "id": "fe8fc73c",
   "metadata": {},
   "outputs": [
    {
     "name": "stdout",
     "output_type": "stream",
     "text": [
      "result is      0.009\n"
     ]
    }
   ],
   "source": [
    "print('result is {r:10.3f}'.format(r=7/777))"
   ]
  },
  {
   "cell_type": "code",
   "execution_count": 30,
   "id": "4f2e3cbd",
   "metadata": {},
   "outputs": [
    {
     "name": "stdout",
     "output_type": "stream",
     "text": [
      "result is 0.009\n"
     ]
    }
   ],
   "source": [
    "print('result is {r:5.3f}'.format(r=7/777))"
   ]
  },
  {
   "cell_type": "code",
   "execution_count": 31,
   "id": "d59eb3ff",
   "metadata": {},
   "outputs": [
    {
     "name": "stdout",
     "output_type": "stream",
     "text": [
      "result is  0.009\n"
     ]
    }
   ],
   "source": [
    "print('result is {r:6.3f}'.format(r=7/777))"
   ]
  },
  {
   "cell_type": "code",
   "execution_count": 32,
   "id": "e01f91e3",
   "metadata": {},
   "outputs": [
    {
     "data": {
      "text/plain": [
       "'      test'"
      ]
     },
     "execution_count": 32,
     "metadata": {},
     "output_type": "execute_result"
    }
   ],
   "source": [
    "'{:>10}'.format('test')"
   ]
  },
  {
   "cell_type": "code",
   "execution_count": 33,
   "id": "68320e6b",
   "metadata": {},
   "outputs": [
    {
     "data": {
      "text/plain": [
       "'test      '"
      ]
     },
     "execution_count": 33,
     "metadata": {},
     "output_type": "execute_result"
    }
   ],
   "source": [
    "'{:10}'.format('test')"
   ]
  },
  {
   "cell_type": "code",
   "execution_count": null,
   "id": "b8d9b432",
   "metadata": {},
   "outputs": [],
   "source": []
  }
 ],
 "metadata": {
  "kernelspec": {
   "display_name": "Python 3 (ipykernel)",
   "language": "python",
   "name": "python3"
  },
  "language_info": {
   "codemirror_mode": {
    "name": "ipython",
    "version": 3
   },
   "file_extension": ".py",
   "mimetype": "text/x-python",
   "name": "python",
   "nbconvert_exporter": "python",
   "pygments_lexer": "ipython3",
   "version": "3.9.7"
  }
 },
 "nbformat": 4,
 "nbformat_minor": 5
}
