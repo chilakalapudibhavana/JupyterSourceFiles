{
 "cells": [
  {
   "cell_type": "code",
   "execution_count": 27,
   "id": "6a88f812",
   "metadata": {},
   "outputs": [],
   "source": [
    "from tkinter import *\n",
    "w=Tk()\n",
    "w.geometry(\"600x600\")\n",
    "w.title(\"REGISTRATION PAGE\")\n",
    "w.configure(bg=\"red\")\n",
    "w.mainloop()"
   ]
  },
  {
   "cell_type": "code",
   "execution_count": 25,
   "id": "0626e496",
   "metadata": {},
   "outputs": [
    {
     "ename": "TclError",
     "evalue": "unknown option \"-img\"",
     "output_type": "error",
     "traceback": [
      "\u001b[1;31m---------------------------------------------------------------------------\u001b[0m",
      "\u001b[1;31mTclError\u001b[0m                                  Traceback (most recent call last)",
      "Input \u001b[1;32mIn [25]\u001b[0m, in \u001b[0;36m<cell line: 6>\u001b[1;34m()\u001b[0m\n\u001b[0;32m      4\u001b[0m w\u001b[38;5;241m.\u001b[39mgeometry(\u001b[38;5;124m\"\u001b[39m\u001b[38;5;124m600x600\u001b[39m\u001b[38;5;124m\"\u001b[39m)\n\u001b[0;32m      5\u001b[0m w\u001b[38;5;241m.\u001b[39mtitle(\u001b[38;5;124m\"\u001b[39m\u001b[38;5;124mREGISTRATION PAGE\u001b[39m\u001b[38;5;124m\"\u001b[39m)\n\u001b[1;32m----> 6\u001b[0m p\u001b[38;5;241m=\u001b[39m \u001b[43mtk\u001b[49m\u001b[38;5;241;43m.\u001b[39;49m\u001b[43mPhotoImage\u001b[49m\u001b[43m(\u001b[49m\u001b[43mimg\u001b[49m\u001b[43m \u001b[49m\u001b[38;5;241;43m=\u001b[39;49m\u001b[43m \u001b[49m\u001b[38;5;124;43m\"\u001b[39;49m\u001b[38;5;124;43mtkb.jpg\u001b[39;49m\u001b[38;5;124;43m\"\u001b[39;49m\u001b[43m)\u001b[49m\n\u001b[0;32m      7\u001b[0m \u001b[38;5;66;03m#p=tk.PhotoImage(file=\"tkb.jpg\")\u001b[39;00m\n\u001b[0;32m      8\u001b[0m w\u001b[38;5;241m.\u001b[39mmainloop()\n",
      "File \u001b[1;32m~\\anaconda3\\lib\\tkinter\\__init__.py:4064\u001b[0m, in \u001b[0;36mPhotoImage.__init__\u001b[1;34m(self, name, cnf, master, **kw)\u001b[0m\n\u001b[0;32m   4059\u001b[0m \u001b[38;5;28;01mdef\u001b[39;00m \u001b[38;5;21m__init__\u001b[39m(\u001b[38;5;28mself\u001b[39m, name\u001b[38;5;241m=\u001b[39m\u001b[38;5;28;01mNone\u001b[39;00m, cnf\u001b[38;5;241m=\u001b[39m{}, master\u001b[38;5;241m=\u001b[39m\u001b[38;5;28;01mNone\u001b[39;00m, \u001b[38;5;241m*\u001b[39m\u001b[38;5;241m*\u001b[39mkw):\n\u001b[0;32m   4060\u001b[0m     \u001b[38;5;124;03m\"\"\"Create an image with NAME.\u001b[39;00m\n\u001b[0;32m   4061\u001b[0m \n\u001b[0;32m   4062\u001b[0m \u001b[38;5;124;03m    Valid resource names: data, format, file, gamma, height, palette,\u001b[39;00m\n\u001b[0;32m   4063\u001b[0m \u001b[38;5;124;03m    width.\"\"\"\u001b[39;00m\n\u001b[1;32m-> 4064\u001b[0m     Image\u001b[38;5;241m.\u001b[39m\u001b[38;5;21m__init__\u001b[39m(\u001b[38;5;28mself\u001b[39m, \u001b[38;5;124m'\u001b[39m\u001b[38;5;124mphoto\u001b[39m\u001b[38;5;124m'\u001b[39m, name, cnf, master, \u001b[38;5;241m*\u001b[39m\u001b[38;5;241m*\u001b[39mkw)\n",
      "File \u001b[1;32m~\\anaconda3\\lib\\tkinter\\__init__.py:4009\u001b[0m, in \u001b[0;36mImage.__init__\u001b[1;34m(self, imgtype, name, cnf, master, **kw)\u001b[0m\n\u001b[0;32m   4007\u001b[0m         v \u001b[38;5;241m=\u001b[39m \u001b[38;5;28mself\u001b[39m\u001b[38;5;241m.\u001b[39m_register(v)\n\u001b[0;32m   4008\u001b[0m     options \u001b[38;5;241m=\u001b[39m options \u001b[38;5;241m+\u001b[39m (\u001b[38;5;124m'\u001b[39m\u001b[38;5;124m-\u001b[39m\u001b[38;5;124m'\u001b[39m\u001b[38;5;241m+\u001b[39mk, v)\n\u001b[1;32m-> 4009\u001b[0m \u001b[38;5;28;43mself\u001b[39;49m\u001b[38;5;241;43m.\u001b[39;49m\u001b[43mtk\u001b[49m\u001b[38;5;241;43m.\u001b[39;49m\u001b[43mcall\u001b[49m\u001b[43m(\u001b[49m\u001b[43m(\u001b[49m\u001b[38;5;124;43m'\u001b[39;49m\u001b[38;5;124;43mimage\u001b[39;49m\u001b[38;5;124;43m'\u001b[39;49m\u001b[43m,\u001b[49m\u001b[43m \u001b[49m\u001b[38;5;124;43m'\u001b[39;49m\u001b[38;5;124;43mcreate\u001b[39;49m\u001b[38;5;124;43m'\u001b[39;49m\u001b[43m,\u001b[49m\u001b[43m \u001b[49m\u001b[43mimgtype\u001b[49m\u001b[43m,\u001b[49m\u001b[43m \u001b[49m\u001b[43mname\u001b[49m\u001b[43m,\u001b[49m\u001b[43m)\u001b[49m\u001b[43m \u001b[49m\u001b[38;5;241;43m+\u001b[39;49m\u001b[43m \u001b[49m\u001b[43moptions\u001b[49m\u001b[43m)\u001b[49m\n\u001b[0;32m   4010\u001b[0m \u001b[38;5;28mself\u001b[39m\u001b[38;5;241m.\u001b[39mname \u001b[38;5;241m=\u001b[39m name\n",
      "\u001b[1;31mTclError\u001b[0m: unknown option \"-img\""
     ]
    }
   ],
   "source": [
    "from tkinter import *\n",
    "import tkinter as tk\n",
    "w=Tk()\n",
    "w.geometry(\"600x600\")\n",
    "w.title(\"REGISTRATION PAGE\")\n",
    "#p= tk.PhotoImage(img = \"tkb.jpg\")\n",
    "#p=tk.PhotoImage(file=\"tkb.jpg\")\n",
    "w.mainloop()"
   ]
  },
  {
   "cell_type": "code",
   "execution_count": null,
   "id": "035b8d43",
   "metadata": {},
   "outputs": [],
   "source": [
    "from tkinter import *\n",
    "import tkinter as tk\n",
    "from tkinter import ttk\n",
    "w=Tk()\n",
    "#fontStyle = tkFont.Font(family=\"Lucida Grande\", size=20)\n",
    "w.geometry(\"600x600\")\n",
    "w.title(\"REGISTRATION PAGE\")\n",
    "w.configure(bg=\"grey\")\n",
    "Label(w,bd=4,text=\"Firstname\",width=15,height=2,bg=\"grey\",fg=\"white\").grid(row=0,column=0)\n",
    "Label(w,bd=4,text=\"Lastname\",width=15,height=2,bg=\"grey\",fg=\"white\").grid(row=1,column=0)\n",
    "Label(w,bd=4,text=\"Phone no\",width=15,height=2,bg=\"grey\",fg=\"white\").grid(row=2,column=0)\n",
    "Label(w,bd=4,text=\"Gender\",width=15,height=2,bg=\"grey\",fg=\"white\").grid(row=3,column=0)\n",
    "Label(w,bd=4,text=\"Email id\",width=15,height=2,bg=\"grey\",fg=\"white\").grid(row=4,column=0)\n",
    "Label(w,bd=4,text=\"State\",width=15,height=2,bg=\"grey\",fg=\"white\").grid(row=5,column=0)\n",
    "Label(w,bd=4,text=\"District\",width=15,height=2,bg=\"grey\",fg=\"white\").grid(row=6,column=0)\n",
    "Label(w,bd=4,text=\"Password\",width=15,height=2,bg=\"grey\",fg=\"white\").grid(row=7,column=0)\n",
    "b=Button(w,bd=4,text=\"Register\")\n",
    "b.grid(row=8,column=1)\n",
    "e1=Entry(w,width=23,fg=\"grey\")\n",
    "e2=Entry(w,width=23,fg=\"grey\")\n",
    "e3=Entry(w,width=23,fg=\"grey\")\n",
    "e41=Radiobutton(w,text=\"Female\",bg=\"grey\",fg=\"white\",value=\"Female\")\n",
    "e42=Radiobutton(w,text=\"Male\",bg=\"grey\",fg=\"white\",value=\"Male\")\n",
    "e5=Entry(w,width=23,fg=\"grey\")\n",
    "n = tk.StringVar()\n",
    "m = tk.StringVar()\n",
    "e6 = ttk.Combobox(w,width=20, textvariable = n)\n",
    "e6['values'] = ('State1','State2','State3','State4','State5')\n",
    "e6.grid(row=5,column=2)\n",
    "e6.current()\n",
    "e7 = ttk.Combobox(w,width=20, textvariable = m)\n",
    "e7['values'] = ('City1','City2','City3','City4','City5')\n",
    "e7.grid(row=6,column=2)\n",
    "e7.current()\n",
    "e8=Entry(w,width=23,fg=\"grey\",show=\"*\")\n",
    "e1.grid(row=0,column=2)\n",
    "e2.grid(row=1,column=2)\n",
    "e3.grid(row=2,column=2)\n",
    "e41.grid(row=3,column=2)\n",
    "e42.grid(row=3,column=3)\n",
    "e5.grid(row=4,column=2)\n",
    "e8.grid(row=7,column=2)\n",
    "\n",
    "\n",
    "\n",
    "\n",
    "w.mainloop()"
   ]
  },
  {
   "cell_type": "code",
   "execution_count": null,
   "id": "b3200562",
   "metadata": {},
   "outputs": [],
   "source": []
  },
  {
   "cell_type": "code",
   "execution_count": null,
   "id": "177c9f10",
   "metadata": {},
   "outputs": [],
   "source": []
  }
 ],
 "metadata": {
  "kernelspec": {
   "display_name": "Python 3 (ipykernel)",
   "language": "python",
   "name": "python3"
  },
  "language_info": {
   "codemirror_mode": {
    "name": "ipython",
    "version": 3
   },
   "file_extension": ".py",
   "mimetype": "text/x-python",
   "name": "python",
   "nbconvert_exporter": "python",
   "pygments_lexer": "ipython3",
   "version": "3.9.12"
  }
 },
 "nbformat": 4,
 "nbformat_minor": 5
}
